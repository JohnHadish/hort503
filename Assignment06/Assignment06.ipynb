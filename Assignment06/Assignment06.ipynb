{
 "cells": [
  {
   "cell_type": "code",
   "execution_count": 1,
   "metadata": {},
   "outputs": [],
   "source": [
    "# Print the array"
   ]
  },
  {
   "cell_type": "code",
   "execution_count": 7,
   "metadata": {},
   "outputs": [
    {
     "ename": "NameError",
     "evalue": "name 'my_array' is not defined",
     "output_type": "error",
     "traceback": [
      "\u001b[0;31m------------------------------------------------------------------\u001b[0m",
      "\u001b[0;31mNameError\u001b[0m                        Traceback (most recent call last)",
      "\u001b[0;32m<ipython-input-7-b895d500d35b>\u001b[0m in \u001b[0;36m<module>\u001b[0;34m()\u001b[0m\n\u001b[0;32m----> 1\u001b[0;31m \u001b[0mprint\u001b[0m\u001b[0;34m(\u001b[0m\u001b[0mmy_array\u001b[0m\u001b[0;34m)\u001b[0m\u001b[0;34m\u001b[0m\u001b[0m\n\u001b[0m",
      "\u001b[0;31mNameError\u001b[0m: name 'my_array' is not defined"
     ]
    }
   ],
   "source": [
    "print(my_array)"
   ]
  },
  {
   "cell_type": "code",
   "execution_count": 8,
   "metadata": {},
   "outputs": [
    {
     "name": "stdout",
     "output_type": "stream",
     "text": [
      "[[1 2 3 4]\n",
      " [5 6 7 8]]\n"
     ]
    }
   ],
   "source": [
    "#import 'numpy' as 'np'\n",
    "import numpy as np\n",
    "\n",
    "#Make the array \"my array\"\n",
    "my_array = np.array([[1,2,3,4], [5,6,7,8]], dtype=np.int64)\n",
    "\n",
    "#print 'my_array'\n",
    "print(my_array)"
   ]
  },
  {
   "cell_type": "code",
   "execution_count": 9,
   "metadata": {
    "scrolled": true
   },
   "outputs": [
    {
     "data": {
      "text/plain": [
       "array([ 0.  ,  0.25,  0.5 ,  0.75,  1.  ,  1.25,  1.5 ,  1.75,  2.  ])"
      ]
     },
     "execution_count": 9,
     "metadata": {},
     "output_type": "execute_result"
    }
   ],
   "source": [
    "# Create an array of ones\n",
    "np.ones((3,4))\n",
    "\n",
    "# Create an array of zeros\n",
    "np.zeros((2,3,4),dtype=np.int16)\n",
    "\n",
    "# Create an array with random values\n",
    "np.random.random((2,2))\n",
    "\n",
    "# Create a empty array\n",
    "np.empty((2,3))\n",
    "\n",
    "#Create a full\n",
    "np.full((2,2),7)\n",
    "\n",
    "# Create an array of evenly spaced values\n",
    "np.arange(10,25,5)\n",
    "\n",
    "#Create an array of evenly space values again I guess\n",
    "np.linspace(0,2,9)"
   ]
  },
  {
   "cell_type": "code",
   "execution_count": 10,
   "metadata": {},
   "outputs": [
    {
     "data": {
      "text/plain": [
       "array([[ 1.,  1.,  1.,  1.],\n",
       "       [ 1.,  1.,  1.,  1.],\n",
       "       [ 1.,  1.,  1.,  1.]])"
      ]
     },
     "execution_count": 10,
     "metadata": {},
     "output_type": "execute_result"
    }
   ],
   "source": [
    "\n",
    "np.ones((3,4))\n",
    "\n"
   ]
  },
  {
   "cell_type": "code",
   "execution_count": 11,
   "metadata": {},
   "outputs": [
    {
     "data": {
      "text/plain": [
       "array([[[0, 0, 0, 0],\n",
       "        [0, 0, 0, 0],\n",
       "        [0, 0, 0, 0]],\n",
       "\n",
       "       [[0, 0, 0, 0],\n",
       "        [0, 0, 0, 0],\n",
       "        [0, 0, 0, 0]]], dtype=int16)"
      ]
     },
     "execution_count": 11,
     "metadata": {},
     "output_type": "execute_result"
    }
   ],
   "source": [
    "np.zeros((2,3,4),dtype=np.int16)\n"
   ]
  },
  {
   "cell_type": "code",
   "execution_count": 12,
   "metadata": {},
   "outputs": [
    {
     "data": {
      "text/plain": [
       "array([[ 0.96455416,  0.55128167],\n",
       "       [ 0.95958537,  0.80206109]])"
      ]
     },
     "execution_count": 12,
     "metadata": {},
     "output_type": "execute_result"
    }
   ],
   "source": [
    "np.random.random((2,2))\n",
    "\n"
   ]
  },
  {
   "cell_type": "code",
   "execution_count": 13,
   "metadata": {},
   "outputs": [
    {
     "data": {
      "text/plain": [
       "array([[  6.94887407e-310,   6.94887407e-310,   0.00000000e+000],\n",
       "       [  0.00000000e+000,   0.00000000e+000,   0.00000000e+000]])"
      ]
     },
     "execution_count": 13,
     "metadata": {},
     "output_type": "execute_result"
    }
   ],
   "source": [
    "np.empty((2,3))\n",
    "\n"
   ]
  },
  {
   "cell_type": "code",
   "execution_count": 14,
   "metadata": {},
   "outputs": [
    {
     "data": {
      "text/plain": [
       "array([[7, 7],\n",
       "       [7, 7]])"
      ]
     },
     "execution_count": 14,
     "metadata": {},
     "output_type": "execute_result"
    }
   ],
   "source": [
    "np.full((2,2),7)\n",
    "\n"
   ]
  },
  {
   "cell_type": "code",
   "execution_count": null,
   "metadata": {},
   "outputs": [],
   "source": []
  },
  {
   "cell_type": "code",
   "execution_count": 15,
   "metadata": {},
   "outputs": [
    {
     "data": {
      "text/plain": [
       "array([10, 15, 20])"
      ]
     },
     "execution_count": 15,
     "metadata": {},
     "output_type": "execute_result"
    }
   ],
   "source": [
    "np.arange(10,25,5)\n",
    "\n"
   ]
  },
  {
   "cell_type": "code",
   "execution_count": 16,
   "metadata": {},
   "outputs": [
    {
     "data": {
      "text/plain": [
       "array([ 0.  ,  0.25,  0.5 ,  0.75,  1.  ,  1.25,  1.5 ,  1.75,  2.  ])"
      ]
     },
     "execution_count": 16,
     "metadata": {},
     "output_type": "execute_result"
    }
   ],
   "source": [
    "np.linspace(0,2,9)"
   ]
  },
  {
   "cell_type": "code",
   "execution_count": 17,
   "metadata": {},
   "outputs": [
    {
     "name": "stdout",
     "output_type": "stream",
     "text": [
      "2\n"
     ]
    }
   ],
   "source": [
    "#arrary dimensions\n",
    "print(my_array.ndim)"
   ]
  },
  {
   "cell_type": "code",
   "execution_count": null,
   "metadata": {},
   "outputs": [],
   "source": []
  },
  {
   "cell_type": "raw",
   "metadata": {},
   "source": []
  },
  {
   "cell_type": "code",
   "execution_count": 18,
   "metadata": {},
   "outputs": [
    {
     "name": "stdout",
     "output_type": "stream",
     "text": [
      "8\n"
     ]
    }
   ],
   "source": [
    "#number of array elemnts\n",
    "print(my_array.size)"
   ]
  },
  {
   "cell_type": "code",
   "execution_count": 19,
   "metadata": {},
   "outputs": [
    {
     "name": "stdout",
     "output_type": "stream",
     "text": [
      "  C_CONTIGUOUS : True\n",
      "  F_CONTIGUOUS : False\n",
      "  OWNDATA : True\n",
      "  WRITEABLE : True\n",
      "  ALIGNED : True\n",
      "  UPDATEIFCOPY : False\n"
     ]
    }
   ],
   "source": [
    "#my_array memory layout\n",
    "print(my_array.flags)"
   ]
  },
  {
   "cell_type": "code",
   "execution_count": 20,
   "metadata": {},
   "outputs": [
    {
     "name": "stdout",
     "output_type": "stream",
     "text": [
      "8\n"
     ]
    }
   ],
   "source": [
    "#length in bytes\n",
    "print(my_array.itemsize)"
   ]
  },
  {
   "cell_type": "code",
   "execution_count": 21,
   "metadata": {},
   "outputs": [
    {
     "name": "stdout",
     "output_type": "stream",
     "text": [
      "64\n"
     ]
    }
   ],
   "source": [
    "#total consumed bytes by array\n",
    "print(my_array.nbytes)"
   ]
  },
  {
   "cell_type": "code",
   "execution_count": 22,
   "metadata": {},
   "outputs": [
    {
     "name": "stdout",
     "output_type": "stream",
     "text": [
      "2\n"
     ]
    }
   ],
   "source": [
    "#length\n",
    "print(len(my_array))"
   ]
  },
  {
   "cell_type": "code",
   "execution_count": 28,
   "metadata": {},
   "outputs": [
    {
     "data": {
      "text/plain": [
       "array([[ 1.,  2.,  3.,  4.],\n",
       "       [ 5.,  6.,  7.,  8.]])"
      ]
     },
     "execution_count": 28,
     "metadata": {},
     "output_type": "execute_result"
    }
   ],
   "source": [
    "#change data type\n",
    "my_array.astype(float)"
   ]
  },
  {
   "cell_type": "code",
   "execution_count": 29,
   "metadata": {},
   "outputs": [],
   "source": [
    "#initialize x\n",
    "x = np.ones((3,4))"
   ]
  },
  {
   "cell_type": "code",
   "execution_count": 30,
   "metadata": {},
   "outputs": [
    {
     "name": "stdout",
     "output_type": "stream",
     "text": [
      "(3, 4)\n"
     ]
    }
   ],
   "source": [
    "print(x.shape)"
   ]
  },
  {
   "cell_type": "code",
   "execution_count": 31,
   "metadata": {},
   "outputs": [],
   "source": [
    "y = np.random.random((3,4))"
   ]
  },
  {
   "cell_type": "code",
   "execution_count": 32,
   "metadata": {},
   "outputs": [
    {
     "name": "stdout",
     "output_type": "stream",
     "text": [
      "(3, 4)\n"
     ]
    }
   ],
   "source": [
    "print(y.shape)"
   ]
  },
  {
   "cell_type": "code",
   "execution_count": 33,
   "metadata": {},
   "outputs": [
    {
     "data": {
      "text/plain": [
       "array([[ 1.94746013,  1.10399136,  1.79057116,  1.0332722 ],\n",
       "       [ 1.56781223,  1.3876972 ,  1.49916153,  1.56023883],\n",
       "       [ 1.01380116,  1.5694118 ,  1.79878479,  1.05520334]])"
      ]
     },
     "execution_count": 33,
     "metadata": {},
     "output_type": "execute_result"
    }
   ],
   "source": [
    "x + y"
   ]
  },
  {
   "cell_type": "code",
   "execution_count": 34,
   "metadata": {},
   "outputs": [],
   "source": [
    "x = np.ones((3,4))"
   ]
  },
  {
   "cell_type": "code",
   "execution_count": 35,
   "metadata": {},
   "outputs": [
    {
     "name": "stdout",
     "output_type": "stream",
     "text": [
      "(3, 4)\n"
     ]
    }
   ],
   "source": [
    "print(x.shape)"
   ]
  },
  {
   "cell_type": "code",
   "execution_count": 36,
   "metadata": {},
   "outputs": [],
   "source": [
    "y = np.arange(4)"
   ]
  },
  {
   "cell_type": "code",
   "execution_count": 37,
   "metadata": {},
   "outputs": [
    {
     "name": "stdout",
     "output_type": "stream",
     "text": [
      "(4,)\n"
     ]
    }
   ],
   "source": [
    "print(y.shape)"
   ]
  },
  {
   "cell_type": "code",
   "execution_count": 38,
   "metadata": {},
   "outputs": [
    {
     "data": {
      "text/plain": [
       "array([[ 1.,  0., -1., -2.],\n",
       "       [ 1.,  0., -1., -2.],\n",
       "       [ 1.,  0., -1., -2.]])"
      ]
     },
     "execution_count": 38,
     "metadata": {},
     "output_type": "execute_result"
    }
   ],
   "source": [
    "x - y "
   ]
  },
  {
   "cell_type": "code",
   "execution_count": 39,
   "metadata": {},
   "outputs": [],
   "source": [
    "x = np.ones((3,4))"
   ]
  },
  {
   "cell_type": "code",
   "execution_count": 40,
   "metadata": {},
   "outputs": [],
   "source": [
    "y = np.random.random((5,1,4))"
   ]
  },
  {
   "cell_type": "code",
   "execution_count": 41,
   "metadata": {},
   "outputs": [
    {
     "data": {
      "text/plain": [
       "array([[[ 1.59180601,  1.1305497 ,  1.30858182,  1.79913865],\n",
       "        [ 1.59180601,  1.1305497 ,  1.30858182,  1.79913865],\n",
       "        [ 1.59180601,  1.1305497 ,  1.30858182,  1.79913865]],\n",
       "\n",
       "       [[ 1.81979537,  1.3608458 ,  1.67947459,  1.66331379],\n",
       "        [ 1.81979537,  1.3608458 ,  1.67947459,  1.66331379],\n",
       "        [ 1.81979537,  1.3608458 ,  1.67947459,  1.66331379]],\n",
       "\n",
       "       [[ 1.91552471,  1.58937313,  1.00274847,  1.29566735],\n",
       "        [ 1.91552471,  1.58937313,  1.00274847,  1.29566735],\n",
       "        [ 1.91552471,  1.58937313,  1.00274847,  1.29566735]],\n",
       "\n",
       "       [[ 1.31079303,  1.1319089 ,  1.83322093,  1.58877723],\n",
       "        [ 1.31079303,  1.1319089 ,  1.83322093,  1.58877723],\n",
       "        [ 1.31079303,  1.1319089 ,  1.83322093,  1.58877723]],\n",
       "\n",
       "       [[ 1.09182863,  1.97568636,  1.93383   ,  1.60183992],\n",
       "        [ 1.09182863,  1.97568636,  1.93383   ,  1.60183992],\n",
       "        [ 1.09182863,  1.97568636,  1.93383   ,  1.60183992]]])"
      ]
     },
     "execution_count": 41,
     "metadata": {},
     "output_type": "execute_result"
    }
   ],
   "source": [
    "x + y"
   ]
  },
  {
   "cell_type": "code",
   "execution_count": 42,
   "metadata": {},
   "outputs": [
    {
     "data": {
      "text/plain": [
       "array([[[ 1.59180601,  1.1305497 ,  1.30858182,  1.79913865],\n",
       "        [ 1.59180601,  1.1305497 ,  1.30858182,  1.79913865],\n",
       "        [ 1.59180601,  1.1305497 ,  1.30858182,  1.79913865]],\n",
       "\n",
       "       [[ 1.81979537,  1.3608458 ,  1.67947459,  1.66331379],\n",
       "        [ 1.81979537,  1.3608458 ,  1.67947459,  1.66331379],\n",
       "        [ 1.81979537,  1.3608458 ,  1.67947459,  1.66331379]],\n",
       "\n",
       "       [[ 1.91552471,  1.58937313,  1.00274847,  1.29566735],\n",
       "        [ 1.91552471,  1.58937313,  1.00274847,  1.29566735],\n",
       "        [ 1.91552471,  1.58937313,  1.00274847,  1.29566735]],\n",
       "\n",
       "       [[ 1.31079303,  1.1319089 ,  1.83322093,  1.58877723],\n",
       "        [ 1.31079303,  1.1319089 ,  1.83322093,  1.58877723],\n",
       "        [ 1.31079303,  1.1319089 ,  1.83322093,  1.58877723]],\n",
       "\n",
       "       [[ 1.09182863,  1.97568636,  1.93383   ,  1.60183992],\n",
       "        [ 1.09182863,  1.97568636,  1.93383   ,  1.60183992],\n",
       "        [ 1.09182863,  1.97568636,  1.93383   ,  1.60183992]]])"
      ]
     },
     "execution_count": 42,
     "metadata": {},
     "output_type": "execute_result"
    }
   ],
   "source": [
    "np.add(x,y)"
   ]
  },
  {
   "cell_type": "code",
   "execution_count": 43,
   "metadata": {},
   "outputs": [
    {
     "data": {
      "text/plain": [
       "array([[[ 0.40819399,  0.8694503 ,  0.69141818,  0.20086135],\n",
       "        [ 0.40819399,  0.8694503 ,  0.69141818,  0.20086135],\n",
       "        [ 0.40819399,  0.8694503 ,  0.69141818,  0.20086135]],\n",
       "\n",
       "       [[ 0.18020463,  0.6391542 ,  0.32052541,  0.33668621],\n",
       "        [ 0.18020463,  0.6391542 ,  0.32052541,  0.33668621],\n",
       "        [ 0.18020463,  0.6391542 ,  0.32052541,  0.33668621]],\n",
       "\n",
       "       [[ 0.08447529,  0.41062687,  0.99725153,  0.70433265],\n",
       "        [ 0.08447529,  0.41062687,  0.99725153,  0.70433265],\n",
       "        [ 0.08447529,  0.41062687,  0.99725153,  0.70433265]],\n",
       "\n",
       "       [[ 0.68920697,  0.8680911 ,  0.16677907,  0.41122277],\n",
       "        [ 0.68920697,  0.8680911 ,  0.16677907,  0.41122277],\n",
       "        [ 0.68920697,  0.8680911 ,  0.16677907,  0.41122277]],\n",
       "\n",
       "       [[ 0.90817137,  0.02431364,  0.06617   ,  0.39816008],\n",
       "        [ 0.90817137,  0.02431364,  0.06617   ,  0.39816008],\n",
       "        [ 0.90817137,  0.02431364,  0.06617   ,  0.39816008]]])"
      ]
     },
     "execution_count": 43,
     "metadata": {},
     "output_type": "execute_result"
    }
   ],
   "source": [
    "np.subtract(x,y)"
   ]
  },
  {
   "cell_type": "code",
   "execution_count": 44,
   "metadata": {},
   "outputs": [
    {
     "data": {
      "text/plain": [
       "array([[[ 0.59180601,  0.1305497 ,  0.30858182,  0.79913865],\n",
       "        [ 0.59180601,  0.1305497 ,  0.30858182,  0.79913865],\n",
       "        [ 0.59180601,  0.1305497 ,  0.30858182,  0.79913865]],\n",
       "\n",
       "       [[ 0.81979537,  0.3608458 ,  0.67947459,  0.66331379],\n",
       "        [ 0.81979537,  0.3608458 ,  0.67947459,  0.66331379],\n",
       "        [ 0.81979537,  0.3608458 ,  0.67947459,  0.66331379]],\n",
       "\n",
       "       [[ 0.91552471,  0.58937313,  0.00274847,  0.29566735],\n",
       "        [ 0.91552471,  0.58937313,  0.00274847,  0.29566735],\n",
       "        [ 0.91552471,  0.58937313,  0.00274847,  0.29566735]],\n",
       "\n",
       "       [[ 0.31079303,  0.1319089 ,  0.83322093,  0.58877723],\n",
       "        [ 0.31079303,  0.1319089 ,  0.83322093,  0.58877723],\n",
       "        [ 0.31079303,  0.1319089 ,  0.83322093,  0.58877723]],\n",
       "\n",
       "       [[ 0.09182863,  0.97568636,  0.93383   ,  0.60183992],\n",
       "        [ 0.09182863,  0.97568636,  0.93383   ,  0.60183992],\n",
       "        [ 0.09182863,  0.97568636,  0.93383   ,  0.60183992]]])"
      ]
     },
     "execution_count": 44,
     "metadata": {},
     "output_type": "execute_result"
    }
   ],
   "source": [
    "\n",
    "np.multiply(x,y)"
   ]
  },
  {
   "cell_type": "code",
   "execution_count": 45,
   "metadata": {},
   "outputs": [],
   "source": [
    "import numpy as np"
   ]
  },
  {
   "cell_type": "code",
   "execution_count": 46,
   "metadata": {},
   "outputs": [
    {
     "data": {
      "text/plain": [
       "array([[[   1.6897429 ,    7.65991778,    3.24063158,    1.25134731],\n",
       "        [   1.6897429 ,    7.65991778,    3.24063158,    1.25134731],\n",
       "        [   1.6897429 ,    7.65991778,    3.24063158,    1.25134731]],\n",
       "\n",
       "       [[   1.2198166 ,    2.77126686,    1.47172537,    1.50758212],\n",
       "        [   1.2198166 ,    2.77126686,    1.47172537,    1.50758212],\n",
       "        [   1.2198166 ,    2.77126686,    1.47172537,    1.50758212]],\n",
       "\n",
       "       [[   1.09226981,    1.696718  ,  363.83882241,    3.38217928],\n",
       "        [   1.09226981,    1.696718  ,  363.83882241,    3.38217928],\n",
       "        [   1.09226981,    1.696718  ,  363.83882241,    3.38217928]],\n",
       "\n",
       "       [[   3.21757542,    7.58098956,    1.20016189,    1.69843526],\n",
       "        [   3.21757542,    7.58098956,    1.20016189,    1.69843526],\n",
       "        [   3.21757542,    7.58098956,    1.20016189,    1.69843526]],\n",
       "\n",
       "       [[  10.88985033,    1.02491952,    1.07085872,    1.66157139],\n",
       "        [  10.88985033,    1.02491952,    1.07085872,    1.66157139],\n",
       "        [  10.88985033,    1.02491952,    1.07085872,    1.66157139]]])"
      ]
     },
     "execution_count": 46,
     "metadata": {},
     "output_type": "execute_result"
    }
   ],
   "source": [
    "np.divide(x,y)"
   ]
  },
  {
   "cell_type": "code",
   "execution_count": 47,
   "metadata": {},
   "outputs": [
    {
     "data": {
      "text/plain": [
       "array([[[ 0.40819399,  0.08615207,  0.07425453,  0.20086135],\n",
       "        [ 0.40819399,  0.08615207,  0.07425453,  0.20086135],\n",
       "        [ 0.40819399,  0.08615207,  0.07425453,  0.20086135]],\n",
       "\n",
       "       [[ 0.18020463,  0.27830841,  0.32052541,  0.33668621],\n",
       "        [ 0.18020463,  0.27830841,  0.32052541,  0.33668621],\n",
       "        [ 0.18020463,  0.27830841,  0.32052541,  0.33668621]],\n",
       "\n",
       "       [[ 0.08447529,  0.41062687,  0.00230548,  0.11299794],\n",
       "        [ 0.08447529,  0.41062687,  0.00230548,  0.11299794],\n",
       "        [ 0.08447529,  0.41062687,  0.00230548,  0.11299794]],\n",
       "\n",
       "       [[ 0.06762092,  0.07663769,  0.16677907,  0.41122277],\n",
       "        [ 0.06762092,  0.07663769,  0.16677907,  0.41122277],\n",
       "        [ 0.06762092,  0.07663769,  0.16677907,  0.41122277]],\n",
       "\n",
       "       [[ 0.08171373,  0.02431364,  0.06617   ,  0.39816008],\n",
       "        [ 0.08171373,  0.02431364,  0.06617   ,  0.39816008],\n",
       "        [ 0.08171373,  0.02431364,  0.06617   ,  0.39816008]]])"
      ]
     },
     "execution_count": 47,
     "metadata": {},
     "output_type": "execute_result"
    }
   ],
   "source": [
    "np.remainder(x,y)"
   ]
  },
  {
   "cell_type": "code",
   "execution_count": 48,
   "metadata": {},
   "outputs": [
    {
     "ename": "NameError",
     "evalue": "name 'a' is not defined",
     "output_type": "error",
     "traceback": [
      "\u001b[0;31m------------------------------------------------------------------\u001b[0m",
      "\u001b[0;31mNameError\u001b[0m                        Traceback (most recent call last)",
      "\u001b[0;32m<ipython-input-48-36ab1960b3ad>\u001b[0m in \u001b[0;36m<module>\u001b[0;34m()\u001b[0m\n\u001b[0;32m----> 1\u001b[0;31m \u001b[0mnp\u001b[0m\u001b[0;34m.\u001b[0m\u001b[0mlogical_and\u001b[0m\u001b[0;34m(\u001b[0m\u001b[0ma\u001b[0m\u001b[0;34m,\u001b[0m \u001b[0mb\u001b[0m\u001b[0;34m)\u001b[0m\u001b[0;34m\u001b[0m\u001b[0m\n\u001b[0m",
      "\u001b[0;31mNameError\u001b[0m: name 'a' is not defined"
     ]
    }
   ],
   "source": [
    "np.logical_and(a, b)"
   ]
  },
  {
   "cell_type": "code",
   "execution_count": 49,
   "metadata": {},
   "outputs": [
    {
     "ename": "NameError",
     "evalue": "name 'a' is not defined",
     "output_type": "error",
     "traceback": [
      "\u001b[0;31m------------------------------------------------------------------\u001b[0m",
      "\u001b[0;31mNameError\u001b[0m                        Traceback (most recent call last)",
      "\u001b[0;32m<ipython-input-49-8624afabfb38>\u001b[0m in \u001b[0;36m<module>\u001b[0;34m()\u001b[0m\n\u001b[0;32m----> 1\u001b[0;31m \u001b[0mnp\u001b[0m\u001b[0;34m.\u001b[0m\u001b[0mlogical_or\u001b[0m\u001b[0;34m(\u001b[0m\u001b[0ma\u001b[0m\u001b[0;34m,\u001b[0m \u001b[0mb\u001b[0m\u001b[0;34m)\u001b[0m\u001b[0;34m\u001b[0m\u001b[0m\n\u001b[0m",
      "\u001b[0;31mNameError\u001b[0m: name 'a' is not defined"
     ]
    }
   ],
   "source": [
    "np.logical_or(a, b)"
   ]
  },
  {
   "cell_type": "code",
   "execution_count": 50,
   "metadata": {},
   "outputs": [
    {
     "ename": "NameError",
     "evalue": "name 'a' is not defined",
     "output_type": "error",
     "traceback": [
      "\u001b[0;31m------------------------------------------------------------------\u001b[0m",
      "\u001b[0;31mNameError\u001b[0m                        Traceback (most recent call last)",
      "\u001b[0;32m<ipython-input-50-c917b24e4bb6>\u001b[0m in \u001b[0;36m<module>\u001b[0;34m()\u001b[0m\n\u001b[0;32m----> 1\u001b[0;31m \u001b[0mnp\u001b[0m\u001b[0;34m.\u001b[0m\u001b[0mlogical_not\u001b[0m\u001b[0;34m(\u001b[0m\u001b[0ma\u001b[0m\u001b[0;34m,\u001b[0m \u001b[0mb\u001b[0m\u001b[0;34m)\u001b[0m\u001b[0;34m\u001b[0m\u001b[0m\n\u001b[0m",
      "\u001b[0;31mNameError\u001b[0m: name 'a' is not defined"
     ]
    }
   ],
   "source": [
    "np.logical_not(a, b)"
   ]
  },
  {
   "cell_type": "code",
   "execution_count": 51,
   "metadata": {},
   "outputs": [
    {
     "name": "stdout",
     "output_type": "stream",
     "text": [
      "[[1 2 3 4]\n",
      " [5 6 7 8]]\n"
     ]
    }
   ],
   "source": [
    "print(my_array)"
   ]
  },
  {
   "cell_type": "raw",
   "metadata": {},
   "source": [
    "x = np.random.normal(size=5)"
   ]
  },
  {
   "cell_type": "code",
   "execution_count": 54,
   "metadata": {},
   "outputs": [
    {
     "name": "stdout",
     "output_type": "stream",
     "text": [
      "[[ 1.  1.  1.  1.]\n",
      " [ 1.  1.  1.  1.]\n",
      " [ 1.  1.  1.  1.]]\n"
     ]
    }
   ],
   "source": [
    "print(x)\n"
   ]
  },
  {
   "cell_type": "code",
   "execution_count": null,
   "metadata": {},
   "outputs": [],
   "source": []
  },
  {
   "cell_type": "code",
   "execution_count": null,
   "metadata": {},
   "outputs": [],
   "source": []
  }
 ],
 "metadata": {
  "kernelspec": {
   "display_name": "Python 3",
   "language": "python",
   "name": "python3"
  },
  "language_info": {
   "codemirror_mode": {
    "name": "ipython",
    "version": 3
   },
   "file_extension": ".py",
   "mimetype": "text/x-python",
   "name": "python",
   "nbconvert_exporter": "python",
   "pygments_lexer": "ipython3",
   "version": "3.6.3"
  }
 },
 "nbformat": 4,
 "nbformat_minor": 2
}
