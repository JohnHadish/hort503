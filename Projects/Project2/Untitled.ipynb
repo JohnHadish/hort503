{
 "cells": [
  {
   "cell_type": "code",
   "execution_count": 11,
   "metadata": {},
   "outputs": [],
   "source": [
    "import pandas as pd\n",
    "import re\n",
    "import matplotlib.pyplot as plt\n",
    "%matplotlib inline\n",
    "file_in = \"Fragaria_x_ananassa-Winter_Dawn_vs_fvesca_v1.1_pseudo.fna.LG1_50K.pileup\"\n",
    "file_clean = \"Clean\"\n",
    "file_out = \"Out_Realish3\"\n",
    "min_quality = 30"
   ]
  },
  {
   "cell_type": "code",
   "execution_count": null,
   "metadata": {},
   "outputs": [],
   "source": []
  },
  {
   "cell_type": "code",
   "execution_count": 12,
   "metadata": {},
   "outputs": [],
   "source": [
    "with open(file_in, 'r') as pileupIn, open(file_clean, 'w') as pileupClean:\n",
    "    \n",
    "    # This gets the first row for the while loop\n",
    "    row = pileupIn.readline().split()\n",
    "    while row:\n",
    "        \n",
    "        #Removes alignment scores from column 5\n",
    "        row[4] = re.sub(r'(\\$)|(\\^.)', '', row[4])\n",
    "        \n",
    "        #Keeps only rows that do not contain +, - , *, > or < in column 5\n",
    "        if re.search('.*[-+<>\\*]\\S*',row[4]) == None:\n",
    "            pileupClean.write(\"\\t\".join(row)+\"\\n\")\n",
    "        \n",
    "        # this gets the next row for the while loop to look at\n",
    "        row = pileupIn.readline().split()\n",
    "    "
   ]
  },
  {
   "cell_type": "code",
   "execution_count": 13,
   "metadata": {},
   "outputs": [],
   "source": [
    "with open(file_clean, 'r') as pileupClean, open(file_out, 'w') as pileupOut:\n",
    "    row = pileupClean.readline().split()\n",
    "    while row:\n",
    "        remaining_bases = []\n",
    "        remaining_scores = []\n",
    "        \n",
    "        A_num = 0\n",
    "        T_num = 0\n",
    "        C_num = 0\n",
    "        G_num = 0\n",
    "        Total_num = 0\n",
    "        \n",
    "        for base, score in zip(row[4], row[5]):\n",
    "            Numeric_Score = ord(score) - 33\n",
    "\n",
    "            if Numeric_Score >= min_quality:\n",
    "                remaining_bases.append(base)\n",
    "                remaining_scores.append(score)\n",
    "                \n",
    "                if base == \"g\":\n",
    "                    G_num += 1\n",
    "                elif base == \"G\":\n",
    "                    G_num += 1\n",
    "                elif base == \"c\":\n",
    "                    C_num += 1\n",
    "                elif base == \"C\":\n",
    "                    C_num += 1\n",
    "                elif base == \"a\":\n",
    "                    A_num += 1\n",
    "                elif base == \"A\":\n",
    "                    A_num += 1\n",
    "                elif base == \"t\":\n",
    "                    T_num += 1\n",
    "                elif base == \"T\":\n",
    "                    T_num += 1\n",
    "                else:\n",
    "                    pass\n",
    "            Total_num += 1\n",
    "                \n",
    "        row[4] = \"\".join(remaining_bases)\n",
    "        row[5] = \"\".join(remaining_scores)\n",
    "        \n",
    "        if Total_num >= 10:\n",
    "            if G_num >= 3:\n",
    "                new_row = \"\\t\".join(row[0:3]) +  '\\t' + \"G\"+ '\\t' + str(G_num/Total_num) +\"\\n\"\n",
    "                pileupOut.write(new_row)\n",
    "            if C_num >= 3:\n",
    "                new_row = \"\\t\".join(row[0:3]) +  '\\t' + \"C\"+ '\\t' + str(C_num/Total_num) +\"\\n\"\n",
    "                pileupOut.write(new_row)\n",
    "            if A_num >= 3:\n",
    "                new_row = \"\\t\".join(row[0:3]) +  '\\t' + \"A\"+ '\\t' + str(A_num/Total_num) +\"\\n\"\n",
    "                pileupOut.write(new_row)          \n",
    "            if T_num >= 3:\n",
    "                new_row = \"\\t\".join(row[0:3]) +  '\\t' + \"T\"+ '\\t' + str(T_num/Total_num) +\"\\n\"\n",
    "                pileupOut.write(new_row)\n",
    "        row = pileupClean.readline().split()"
   ]
  },
  {
   "cell_type": "code",
   "execution_count": 4,
   "metadata": {},
   "outputs": [
    {
     "data": {
      "text/plain": [
       "0    0.857143\n",
       "1    0.888889\n",
       "2    0.846154\n",
       "3    0.961538\n",
       "4    0.891892\n",
       "Name: 4, dtype: float64"
      ]
     },
     "execution_count": 4,
     "metadata": {},
     "output_type": "execute_result"
    }
   ],
   "source": [
    "df = pd.read_csv(file_out, sep=\"\\t\", header = None)\n",
    "df.head()\n",
    "df[4].head()"
   ]
  },
  {
   "cell_type": "code",
   "execution_count": 53,
   "metadata": {},
   "outputs": [
    {
     "data": {
      "image/png": "[encoded data removed]",
      "text/plain": [
       "<matplotlib.figure.Figure at 0x7ff884da8588>"
      ]
     },
     "metadata": {},
     "output_type": "display_data"
    }
   ],
   "source": [
    "plt.bar(df[1], df[4])\n",
    "plt.show()"
   ]
  },
  {
   "cell_type": "code",
   "execution_count": null,
   "metadata": {},
   "outputs": [],
   "source": []
  },
  {
   "cell_type": "code",
   "execution_count": null,
   "metadata": {},
   "outputs": [],
   "source": []
  },
  {
   "cell_type": "code",
   "execution_count": null,
   "metadata": {},
   "outputs": [],
   "source": []
  },
  {
   "cell_type": "code",
   "execution_count": null,
   "metadata": {},
   "outputs": [],
   "source": []
  },
  {
   "cell_type": "code",
   "execution_count": null,
   "metadata": {},
   "outputs": [],
   "source": []
  }
 ],
 "metadata": {
  "kernelspec": {
   "display_name": "Python [conda env:anaconda3]",
   "language": "python",
   "name": "conda-env-anaconda3-py"
  },
  "language_info": {
   "codemirror_mode": {
    "name": "ipython",
    "version": 3
   },
   "file_extension": ".py",
   "mimetype": "text/x-python",
   "name": "python",
   "nbconvert_exporter": "python",
   "pygments_lexer": "ipython3",
   "version": "3.6.3"
  }
 },
 "nbformat": 4,
 "nbformat_minor": 2
}
