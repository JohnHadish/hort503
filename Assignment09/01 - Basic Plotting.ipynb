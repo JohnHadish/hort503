{
 "cells": [
  {
   "cell_type": "markdown",
   "metadata": {
    "collapsed": true
   },
   "source": [
    "<table style=\"float:left; border:none\">\n",
    "   <tr style=\"border:none; background-color: #ffffff\">\n",
    "       <td style=\"border:none\">\n",
    "           <a href=\"http://bokeh.pydata.org/\">     \n",
    "           <img \n",
    "               src=\"assets/bokeh-transparent.png\" \n",
    "               style=\"width:50px\"\n",
    "           >\n",
    "           </a>    \n",
    "       </td>\n",
    "       <td style=\"border:none\">\n",
    "           <h1>Bokeh Tutorial</h1>\n",
    "       </td>\n",
    "   </tr>\n",
    "</table>\n",
    "\n",
    "<div style=\"float:right;\"><h2>01. Basic Plotting</h2></div>"
   ]
  },
  {
   "cell_type": "markdown",
   "metadata": {},
   "source": [
    "This section of the tutorial covers the [`bokeh.plotting`](http://bokeh.pydata.org/en/latest/docs/user_guide/plotting.html) \n",
    "interface. This interface is a \"mid-level\" interface, and the main idea can be described by the statement:\n",
    "\n",
    "**Starting from simple default figures (with sensible default tools, grids and axes), add markers and other shapes whose visual attributes are tied to directly data.**\n",
    "\n",
    "We will see that it is possible to customize and change all of the defaults, but having them means that it is possible to get up and running very quickly. "
   ]
  },
  {
   "cell_type": "markdown",
   "metadata": {},
   "source": [
    "# Imports and Setup\n",
    "\n",
    "When using the [`bokeh.plotting`](http://bokeh.pydata.org/en/latest/docs/user_guide/plotting.html) interface, there are a few common imports:\n",
    "* Use the [`figure`](http://bokeh.pydata.org/en/latest/docs/reference/plotting.html#bokeh.plotting.figure) function to  create new plot objects to work with. \n",
    "* Call the functions [`output_file`](http://bokeh.pydata.org/en/latest/docs/reference/resources_embedding.html#bokeh.io.output_file), [`output_notebook`](http://bokeh.pydata.org/en/latest/docs/reference/resources_embedding.html#bokeh.io.output_notebook), and [`output_server`](http://bokeh.pydata.org/en/latest/docs/reference/resources_embedding.html#bokeh.io.output_server) (possibly in combination) to tell Bokeh how to display or save output. \n",
    "* Execute [`show`](http://bokeh.pydata.org/en/latest/docs/reference/resources_embedding.html#bokeh.io.show) and  [`save`](http://bokeh.pydata.org/en/latest/docs/reference/resources_embedding.html#bokeh.io.save) to display or save plots and layouts."
   ]
  },
  {
   "cell_type": "code",
   "execution_count": 4,
   "metadata": {},
   "outputs": [],
   "source": [
    "from bokeh.io import output_notebook, show\n",
    "from bokeh.plotting import figure"
   ]
  },
  {
   "cell_type": "code",
   "execution_count": null,
   "metadata": {},
   "outputs": [],
   "source": []
  },
  {
   "cell_type": "markdown",
   "metadata": {},
   "source": [
    "In this case, we are in the Jupyter notebook, so call `output_notebook()`. We only need to call this once, and all subsequent calls to `show()` will display inline in the notebook."
   ]
  },
  {
   "cell_type": "code",
   "execution_count": 5,
   "metadata": {},
   "outputs": [
    {
     "data": {
      "text/html": [
       "\n",
       "    <div class=\"bk-root\">\n",
       "        <a href=\"https://bokeh.pydata.org\" target=\"_blank\" class=\"bk-logo bk-logo-small bk-logo-notebook\"></a>\n",
       "        <span id=\"fe0ad783-772f-40da-a27b-10f60c75c401\">Loading BokehJS ...</span>\n",
       "    </div>"
      ]
     },
     "metadata": {},
     "output_type": "display_data"
    },
    {
     "data": {
      "application/javascript": [
       "\n",
       "(function(root) {\n",
       "  function now() {\n",
       "    return new Date();\n",
       "  }\n",
       "\n",
       "  var force = true;\n",
       "\n",
       "  if (typeof (root._bokeh_onload_callbacks) === \"undefined\" || force === true) {\n",
       "    root._bokeh_onload_callbacks = [];\n",
       "    root._bokeh_is_loading = undefined;\n",
       "  }\n",
       "\n",
       "  var JS_MIME_TYPE = 'application/javascript';\n",
       "  var HTML_MIME_TYPE = 'text/html';\n",
       "  var EXEC_MIME_TYPE = 'application/vnd.bokehjs_exec.v0+json';\n",
       "  var CLASS_NAME = 'output_bokeh rendered_html';\n",
       "\n",
       "  /**\n",
       "   * Render data to the DOM node\n",
       "   */\n",
       "  function render(props, node) {\n",
       "    var script = document.createElement(\"script\");\n",
       "    node.appendChild(script);\n",
       "  }\n",
       "\n",
       "  /**\n",
       "   * Handle when an output is cleared or removed\n",
       "   */\n",
       "  function handleClearOutput(event, handle) {\n",
       "    var cell = handle.cell;\n",
       "\n",
       "    var id = cell.output_area._bokeh_element_id;\n",
       "    var server_id = cell.output_area._bokeh_server_id;\n",
       "    // Clean up Bokeh references\n",
       "    if (id !== undefined) {\n",
       "      Bokeh.index[id].model.document.clear();\n",
       "      delete Bokeh.index[id];\n",
       "    }\n",
       "\n",
       "    if (server_id !== undefined) {\n",
       "      // Clean up Bokeh references\n",
       "      var cmd = \"from bokeh.io.state import curstate; print(curstate().uuid_to_server['\" + server_id + \"'].get_sessions()[0].document.roots[0]._id)\";\n",
       "      cell.notebook.kernel.execute(cmd, {\n",
       "        iopub: {\n",
       "          output: function(msg) {\n",
       "            var element_id = msg.content.text.trim();\n",
       "            Bokeh.index[element_id].model.document.clear();\n",
       "            delete Bokeh.index[element_id];\n",
       "          }\n",
       "        }\n",
       "      });\n",
       "      // Destroy server and session\n",
       "      var cmd = \"import bokeh.io.notebook as ion; ion.destroy_server('\" + server_id + \"')\";\n",
       "      cell.notebook.kernel.execute(cmd);\n",
       "    }\n",
       "  }\n",
       "\n",
       "  /**\n",
       "   * Handle when a new output is added\n",
       "   */\n",
       "  function handleAddOutput(event, handle) {\n",
       "    var output_area = handle.output_area;\n",
       "    var output = handle.output;\n",
       "\n",
       "    // limit handleAddOutput to display_data with EXEC_MIME_TYPE content only\n",
       "    if ((output.output_type != \"display_data\") || (!output.data.hasOwnProperty(EXEC_MIME_TYPE))) {\n",
       "      return\n",
       "    }\n",
       "\n",
       "    var toinsert = output_area.element.find(`.${CLASS_NAME.split(' ')[0]}`);\n",
       "\n",
       "    if (output.metadata[EXEC_MIME_TYPE][\"id\"] !== undefined) {\n",
       "      toinsert[0].firstChild.textContent = output.data[JS_MIME_TYPE];\n",
       "      // store reference to embed id on output_area\n",
       "      output_area._bokeh_element_id = output.metadata[EXEC_MIME_TYPE][\"id\"];\n",
       "    }\n",
       "    if (output.metadata[EXEC_MIME_TYPE][\"server_id\"] !== undefined) {\n",
       "      var bk_div = document.createElement(\"div\");\n",
       "      bk_div.innerHTML = output.data[HTML_MIME_TYPE];\n",
       "      var script_attrs = bk_div.children[0].attributes;\n",
       "      for (var i = 0; i < script_attrs.length; i++) {\n",
       "        toinsert[0].firstChild.setAttribute(script_attrs[i].name, script_attrs[i].value);\n",
       "      }\n",
       "      // store reference to server id on output_area\n",
       "      output_area._bokeh_server_id = output.metadata[EXEC_MIME_TYPE][\"server_id\"];\n",
       "    }\n",
       "  }\n",
       "\n",
       "  function register_renderer(events, OutputArea) {\n",
       "\n",
       "    function append_mime(data, metadata, element) {\n",
       "      // create a DOM node to render to\n",
       "      var toinsert = this.create_output_subarea(\n",
       "        metadata,\n",
       "        CLASS_NAME,\n",
       "        EXEC_MIME_TYPE\n",
       "      );\n",
       "      this.keyboard_manager.register_events(toinsert);\n",
       "      // Render to node\n",
       "      var props = {data: data, metadata: metadata[EXEC_MIME_TYPE]};\n",
       "      render(props, toinsert[0]);\n",
       "      element.append(toinsert);\n",
       "      return toinsert\n",
       "    }\n",
       "\n",
       "    /* Handle when an output is cleared or removed */\n",
       "    events.on('clear_output.CodeCell', handleClearOutput);\n",
       "    events.on('delete.Cell', handleClearOutput);\n",
       "\n",
       "    /* Handle when a new output is added */\n",
       "    events.on('output_added.OutputArea', handleAddOutput);\n",
       "\n",
       "    /**\n",
       "     * Register the mime type and append_mime function with output_area\n",
       "     */\n",
       "    OutputArea.prototype.register_mime_type(EXEC_MIME_TYPE, append_mime, {\n",
       "      /* Is output safe? */\n",
       "      safe: true,\n",
       "      /* Index of renderer in `output_area.display_order` */\n",
       "      index: 0\n",
       "    });\n",
       "  }\n",
       "\n",
       "  // register the mime type if in Jupyter Notebook environment and previously unregistered\n",
       "  if (root.Jupyter !== undefined) {\n",
       "    var events = require('base/js/events');\n",
       "    var OutputArea = require('notebook/js/outputarea').OutputArea;\n",
       "\n",
       "    if (OutputArea.prototype.mime_types().indexOf(EXEC_MIME_TYPE) == -1) {\n",
       "      register_renderer(events, OutputArea);\n",
       "    }\n",
       "  }\n",
       "\n",
       "  \n",
       "  if (typeof (root._bokeh_timeout) === \"undefined\" || force === true) {\n",
       "    root._bokeh_timeout = Date.now() + 5000;\n",
       "    root._bokeh_failed_load = false;\n",
       "  }\n",
       "\n",
       "  var NB_LOAD_WARNING = {'data': {'text/html':\n",
       "     \"<div style='background-color: #fdd'>\\n\"+\n",
       "     \"<p>\\n\"+\n",
       "     \"BokehJS does not appear to have successfully loaded. If loading BokehJS from CDN, this \\n\"+\n",
       "     \"may be due to a slow or bad network connection. Possible fixes:\\n\"+\n",
       "     \"</p>\\n\"+\n",
       "     \"<ul>\\n\"+\n",
       "     \"<li>re-rerun `output_notebook()` to attempt to load from CDN again, or</li>\\n\"+\n",
       "     \"<li>use INLINE resources instead, as so:</li>\\n\"+\n",
       "     \"</ul>\\n\"+\n",
       "     \"<code>\\n\"+\n",
       "     \"from bokeh.resources import INLINE\\n\"+\n",
       "     \"output_notebook(resources=INLINE)\\n\"+\n",
       "     \"</code>\\n\"+\n",
       "     \"</div>\"}};\n",
       "\n",
       "  function display_loaded() {\n",
       "    var el = document.getElementById(\"fe0ad783-772f-40da-a27b-10f60c75c401\");\n",
       "    if (el != null) {\n",
       "      el.textContent = \"BokehJS is loading...\";\n",
       "    }\n",
       "    if (root.Bokeh !== undefined) {\n",
       "      if (el != null) {\n",
       "        el.textContent = \"BokehJS \" + root.Bokeh.version + \" successfully loaded.\";\n",
       "      }\n",
       "    } else if (Date.now() < root._bokeh_timeout) {\n",
       "      setTimeout(display_loaded, 100)\n",
       "    }\n",
       "  }\n",
       "\n",
       "\n",
       "  function run_callbacks() {\n",
       "    try {\n",
       "      root._bokeh_onload_callbacks.forEach(function(callback) { callback() });\n",
       "    }\n",
       "    finally {\n",
       "      delete root._bokeh_onload_callbacks\n",
       "    }\n",
       "    console.info(\"Bokeh: all callbacks have finished\");\n",
       "  }\n",
       "\n",
       "  function load_libs(js_urls, callback) {\n",
       "    root._bokeh_onload_callbacks.push(callback);\n",
       "    if (root._bokeh_is_loading > 0) {\n",
       "      console.log(\"Bokeh: BokehJS is being loaded, scheduling callback at\", now());\n",
       "      return null;\n",
       "    }\n",
       "    if (js_urls == null || js_urls.length === 0) {\n",
       "      run_callbacks();\n",
       "      return null;\n",
       "    }\n",
       "    console.log(\"Bokeh: BokehJS not loaded, scheduling load and callback at\", now());\n",
       "    root._bokeh_is_loading = js_urls.length;\n",
       "    for (var i = 0; i < js_urls.length; i++) {\n",
       "      var url = js_urls[i];\n",
       "      var s = document.createElement('script');\n",
       "      s.src = url;\n",
       "      s.async = false;\n",
       "      s.onreadystatechange = s.onload = function() {\n",
       "        root._bokeh_is_loading--;\n",
       "        if (root._bokeh_is_loading === 0) {\n",
       "          console.log(\"Bokeh: all BokehJS libraries loaded\");\n",
       "          run_callbacks()\n",
       "        }\n",
       "      };\n",
       "      s.onerror = function() {\n",
       "        console.warn(\"failed to load library \" + url);\n",
       "      };\n",
       "      console.log(\"Bokeh: injecting script tag for BokehJS library: \", url);\n",
       "      document.getElementsByTagName(\"head\")[0].appendChild(s);\n",
       "    }\n",
       "  };var element = document.getElementById(\"fe0ad783-772f-40da-a27b-10f60c75c401\");\n",
       "  if (element == null) {\n",
       "    console.log(\"Bokeh: ERROR: autoload.js configured with elementid 'fe0ad783-772f-40da-a27b-10f60c75c401' but no matching script tag was found. \")\n",
       "    return false;\n",
       "  }\n",
       "\n",
       "  var js_urls = [\"https://cdn.pydata.org/bokeh/release/bokeh-0.12.10.min.js\", \"https://cdn.pydata.org/bokeh/release/bokeh-widgets-0.12.10.min.js\", \"https://cdn.pydata.org/bokeh/release/bokeh-tables-0.12.10.min.js\", \"https://cdn.pydata.org/bokeh/release/bokeh-gl-0.12.10.min.js\"];\n",
       "\n",
       "  var inline_js = [\n",
       "    function(Bokeh) {\n",
       "      Bokeh.set_log_level(\"info\");\n",
       "    },\n",
       "    \n",
       "    function(Bokeh) {\n",
       "      \n",
       "    },\n",
       "    function(Bokeh) {\n",
       "      console.log(\"Bokeh: injecting CSS: https://cdn.pydata.org/bokeh/release/bokeh-0.12.10.min.css\");\n",
       "      Bokeh.embed.inject_css(\"https://cdn.pydata.org/bokeh/release/bokeh-0.12.10.min.css\");\n",
       "      console.log(\"Bokeh: injecting CSS: https://cdn.pydata.org/bokeh/release/bokeh-widgets-0.12.10.min.css\");\n",
       "      Bokeh.embed.inject_css(\"https://cdn.pydata.org/bokeh/release/bokeh-widgets-0.12.10.min.css\");\n",
       "      console.log(\"Bokeh: injecting CSS: https://cdn.pydata.org/bokeh/release/bokeh-tables-0.12.10.min.css\");\n",
       "      Bokeh.embed.inject_css(\"https://cdn.pydata.org/bokeh/release/bokeh-tables-0.12.10.min.css\");\n",
       "    }\n",
       "  ];\n",
       "\n",
       "  function run_inline_js() {\n",
       "    \n",
       "    if ((root.Bokeh !== undefined) || (force === true)) {\n",
       "      for (var i = 0; i < inline_js.length; i++) {\n",
       "        inline_js[i].call(root, root.Bokeh);\n",
       "      }if (force === true) {\n",
       "        display_loaded();\n",
       "      }} else if (Date.now() < root._bokeh_timeout) {\n",
       "      setTimeout(run_inline_js, 100);\n",
       "    } else if (!root._bokeh_failed_load) {\n",
       "      console.log(\"Bokeh: BokehJS failed to load within specified timeout.\");\n",
       "      root._bokeh_failed_load = true;\n",
       "    } else if (force !== true) {\n",
       "      var cell = $(document.getElementById(\"fe0ad783-772f-40da-a27b-10f60c75c401\")).parents('.cell').data().cell;\n",
       "      cell.output_area.append_execute_result(NB_LOAD_WARNING)\n",
       "    }\n",
       "\n",
       "  }\n",
       "\n",
       "  if (root._bokeh_is_loading === 0) {\n",
       "    console.log(\"Bokeh: BokehJS loaded, going straight to plotting\");\n",
       "    run_inline_js();\n",
       "  } else {\n",
       "    load_libs(js_urls, function() {\n",
       "      console.log(\"Bokeh: BokehJS plotting callback run at\", now());\n",
       "      run_inline_js();\n",
       "    });\n",
       "  }\n",
       "}(window));"
      ],
      "application/vnd.bokehjs_load.v0+json": "\n(function(root) {\n  function now() {\n    return new Date();\n  }\n\n  var force = true;\n\n  if (typeof (root._bokeh_onload_callbacks) === \"undefined\" || force === true) {\n    root._bokeh_onload_callbacks = [];\n    root._bokeh_is_loading = undefined;\n  }\n\n  \n\n  \n  if (typeof (root._bokeh_timeout) === \"undefined\" || force === true) {\n    root._bokeh_timeout = Date.now() + 5000;\n    root._bokeh_failed_load = false;\n  }\n\n  var NB_LOAD_WARNING = {'data': {'text/html':\n     \"<div style='background-color: #fdd'>\\n\"+\n     \"<p>\\n\"+\n     \"BokehJS does not appear to have successfully loaded. If loading BokehJS from CDN, this \\n\"+\n     \"may be due to a slow or bad network connection. Possible fixes:\\n\"+\n     \"</p>\\n\"+\n     \"<ul>\\n\"+\n     \"<li>re-rerun `output_notebook()` to attempt to load from CDN again, or</li>\\n\"+\n     \"<li>use INLINE resources instead, as so:</li>\\n\"+\n     \"</ul>\\n\"+\n     \"<code>\\n\"+\n     \"from bokeh.resources import INLINE\\n\"+\n     \"output_notebook(resources=INLINE)\\n\"+\n     \"</code>\\n\"+\n     \"</div>\"}};\n\n  function display_loaded() {\n    var el = document.getElementById(\"fe0ad783-772f-40da-a27b-10f60c75c401\");\n    if (el != null) {\n      el.textContent = \"BokehJS is loading...\";\n    }\n    if (root.Bokeh !== undefined) {\n      if (el != null) {\n        el.textContent = \"BokehJS \" + root.Bokeh.version + \" successfully loaded.\";\n      }\n    } else if (Date.now() < root._bokeh_timeout) {\n      setTimeout(display_loaded, 100)\n    }\n  }\n\n\n  function run_callbacks() {\n    try {\n      root._bokeh_onload_callbacks.forEach(function(callback) { callback() });\n    }\n    finally {\n      delete root._bokeh_onload_callbacks\n    }\n    console.info(\"Bokeh: all callbacks have finished\");\n  }\n\n  function load_libs(js_urls, callback) {\n    root._bokeh_onload_callbacks.push(callback);\n    if (root._bokeh_is_loading > 0) {\n      console.log(\"Bokeh: BokehJS is being loaded, scheduling callback at\", now());\n      return null;\n    }\n    if (js_urls == null || js_urls.length === 0) {\n      run_callbacks();\n      return null;\n    }\n    console.log(\"Bokeh: BokehJS not loaded, scheduling load and callback at\", now());\n    root._bokeh_is_loading = js_urls.length;\n    for (var i = 0; i < js_urls.length; i++) {\n      var url = js_urls[i];\n      var s = document.createElement('script');\n      s.src = url;\n      s.async = false;\n      s.onreadystatechange = s.onload = function() {\n        root._bokeh_is_loading--;\n        if (root._bokeh_is_loading === 0) {\n          console.log(\"Bokeh: all BokehJS libraries loaded\");\n          run_callbacks()\n        }\n      };\n      s.onerror = function() {\n        console.warn(\"failed to load library \" + url);\n      };\n      console.log(\"Bokeh: injecting script tag for BokehJS library: \", url);\n      document.getElementsByTagName(\"head\")[0].appendChild(s);\n    }\n  };var element = document.getElementById(\"fe0ad783-772f-40da-a27b-10f60c75c401\");\n  if (element == null) {\n    console.log(\"Bokeh: ERROR: autoload.js configured with elementid 'fe0ad783-772f-40da-a27b-10f60c75c401' but no matching script tag was found. \")\n    return false;\n  }\n\n  var js_urls = [\"https://cdn.pydata.org/bokeh/release/bokeh-0.12.10.min.js\", \"https://cdn.pydata.org/bokeh/release/bokeh-widgets-0.12.10.min.js\", \"https://cdn.pydata.org/bokeh/release/bokeh-tables-0.12.10.min.js\", \"https://cdn.pydata.org/bokeh/release/bokeh-gl-0.12.10.min.js\"];\n\n  var inline_js = [\n    function(Bokeh) {\n      Bokeh.set_log_level(\"info\");\n    },\n    \n    function(Bokeh) {\n      \n    },\n    function(Bokeh) {\n      console.log(\"Bokeh: injecting CSS: https://cdn.pydata.org/bokeh/release/bokeh-0.12.10.min.css\");\n      Bokeh.embed.inject_css(\"https://cdn.pydata.org/bokeh/release/bokeh-0.12.10.min.css\");\n      console.log(\"Bokeh: injecting CSS: https://cdn.pydata.org/bokeh/release/bokeh-widgets-0.12.10.min.css\");\n      Bokeh.embed.inject_css(\"https://cdn.pydata.org/bokeh/release/bokeh-widgets-0.12.10.min.css\");\n      console.log(\"Bokeh: injecting CSS: https://cdn.pydata.org/bokeh/release/bokeh-tables-0.12.10.min.css\");\n      Bokeh.embed.inject_css(\"https://cdn.pydata.org/bokeh/release/bokeh-tables-0.12.10.min.css\");\n    }\n  ];\n\n  function run_inline_js() {\n    \n    if ((root.Bokeh !== undefined) || (force === true)) {\n      for (var i = 0; i < inline_js.length; i++) {\n        inline_js[i].call(root, root.Bokeh);\n      }if (force === true) {\n        display_loaded();\n      }} else if (Date.now() < root._bokeh_timeout) {\n      setTimeout(run_inline_js, 100);\n    } else if (!root._bokeh_failed_load) {\n      console.log(\"Bokeh: BokehJS failed to load within specified timeout.\");\n      root._bokeh_failed_load = true;\n    } else if (force !== true) {\n      var cell = $(document.getElementById(\"fe0ad783-772f-40da-a27b-10f60c75c401\")).parents('.cell').data().cell;\n      cell.output_area.append_execute_result(NB_LOAD_WARNING)\n    }\n\n  }\n\n  if (root._bokeh_is_loading === 0) {\n    console.log(\"Bokeh: BokehJS loaded, going straight to plotting\");\n    run_inline_js();\n  } else {\n    load_libs(js_urls, function() {\n      console.log(\"Bokeh: BokehJS plotting callback run at\", now());\n      run_inline_js();\n    });\n  }\n}(window));"
     },
     "metadata": {},
     "output_type": "display_data"
    }
   ],
   "source": [
    "output_notebook()"
   ]
  },
  {
   "cell_type": "markdown",
   "metadata": {},
   "source": [
    "# Some Basic Scatter Plots\n",
    "\n",
    "In this section you will see how to use Bokeh's various marker types to create simple scatter plots. "
   ]
  },
  {
   "cell_type": "code",
   "execution_count": 10,
   "metadata": {},
   "outputs": [
    {
     "data": {
      "text/html": [
       "\n",
       "<div class=\"bk-root\">\n",
       "    <div class=\"bk-plotdiv\" id=\"93bf20c6-e642-4d00-ae70-4329c622a117\"></div>\n",
       "</div>"
      ]
     },
     "metadata": {},
     "output_type": "display_data"
    },
    {
     "data": {
      "application/javascript": [
       "(function(root) {\n",
       "  function embed_document(root) {\n",
       "    var docs_json = {\"f89741f2-e7c6-49c3-bcd8-ffde560800cf\":{\"roots\":{\"references\":[{\"attributes\":{},\"id\":\"9f0ad0b8-313f-4365-82ff-422db38eef39\",\"type\":\"BasicTickFormatter\"},{\"attributes\":{},\"id\":\"5f618339-a5b1-4879-a2ab-9155804f5a8a\",\"type\":\"HelpTool\"},{\"attributes\":{\"below\":[{\"id\":\"ca255aa4-6e40-4cf7-8179-3fc0b6467a33\",\"type\":\"LinearAxis\"}],\"left\":[{\"id\":\"e0aa2b8a-29dd-417d-88e4-0e9492238d86\",\"type\":\"LinearAxis\"}],\"plot_height\":400,\"plot_width\":400,\"renderers\":[{\"id\":\"ca255aa4-6e40-4cf7-8179-3fc0b6467a33\",\"type\":\"LinearAxis\"},{\"id\":\"a9692ec9-1c5f-4280-b06d-f3689d6dd536\",\"type\":\"Grid\"},{\"id\":\"e0aa2b8a-29dd-417d-88e4-0e9492238d86\",\"type\":\"LinearAxis\"},{\"id\":\"288c78e8-d133-4840-8449-d10f8a62d1a7\",\"type\":\"Grid\"},{\"id\":\"c493aa53-e038-4584-8399-782723000a08\",\"type\":\"BoxAnnotation\"},{\"id\":\"50ca4dac-ef74-49d5-bade-23ddfbeee46a\",\"type\":\"GlyphRenderer\"}],\"title\":{\"id\":\"15f675f7-7c26-4193-a9ca-ace60fa4d14f\",\"type\":\"Title\"},\"toolbar\":{\"id\":\"f560877b-9791-4dbc-9637-2a4ba7e5e8e0\",\"type\":\"Toolbar\"},\"x_range\":{\"id\":\"da5856d0-dc0b-4c66-9dc5-1d99e5abddab\",\"type\":\"DataRange1d\"},\"x_scale\":{\"id\":\"c109368b-978b-49ef-91f7-34d4da23239f\",\"type\":\"LinearScale\"},\"y_range\":{\"id\":\"ead1adc1-c8f8-460f-b74e-cbe3bdbedec3\",\"type\":\"DataRange1d\"},\"y_scale\":{\"id\":\"10015478-72a8-453d-887e-0f4e7cf2660c\",\"type\":\"LinearScale\"}},\"id\":\"3314030a-ec91-4023-b1ba-9118e2bfdaa5\",\"subtype\":\"Figure\",\"type\":\"Plot\"},{\"attributes\":{},\"id\":\"b51e9892-52d2-4209-b09c-ea2f535370de\",\"type\":\"BasicTickFormatter\"},{\"attributes\":{},\"id\":\"bf513565-fb6f-463b-b2c5-0842b1d74913\",\"type\":\"PanTool\"},{\"attributes\":{},\"id\":\"81036565-a192-4a64-8882-d89609efde9b\",\"type\":\"BasicTicker\"},{\"attributes\":{},\"id\":\"f6a0ea49-9537-44ea-9fd8-6939cdd38bb2\",\"type\":\"WheelZoomTool\"},{\"attributes\":{\"overlay\":{\"id\":\"c493aa53-e038-4584-8399-782723000a08\",\"type\":\"BoxAnnotation\"}},\"id\":\"b66dcc69-cd95-43e1-933d-e12ff7a772c6\",\"type\":\"BoxZoomTool\"},{\"attributes\":{\"plot\":{\"id\":\"3314030a-ec91-4023-b1ba-9118e2bfdaa5\",\"subtype\":\"Figure\",\"type\":\"Plot\"},\"ticker\":{\"id\":\"81036565-a192-4a64-8882-d89609efde9b\",\"type\":\"BasicTicker\"}},\"id\":\"a9692ec9-1c5f-4280-b06d-f3689d6dd536\",\"type\":\"Grid\"},{\"attributes\":{\"bottom_units\":\"screen\",\"fill_alpha\":{\"value\":0.5},\"fill_color\":{\"value\":\"lightgrey\"},\"left_units\":\"screen\",\"level\":\"overlay\",\"line_alpha\":{\"value\":1.0},\"line_color\":{\"value\":\"black\"},\"line_dash\":[4,4],\"line_width\":{\"value\":2},\"plot\":null,\"render_mode\":\"css\",\"right_units\":\"screen\",\"top_units\":\"screen\"},\"id\":\"c493aa53-e038-4584-8399-782723000a08\",\"type\":\"BoxAnnotation\"},{\"attributes\":{\"data_source\":{\"id\":\"9102e425-a66f-4889-a10f-4bf15ce8c928\",\"type\":\"ColumnDataSource\"},\"glyph\":{\"id\":\"c69f4b99-8b11-41c5-8d94-83567ff8fc5d\",\"type\":\"Circle\"},\"hover_glyph\":null,\"muted_glyph\":null,\"nonselection_glyph\":{\"id\":\"2f0ea401-6087-4048-8446-08b9a41d6a44\",\"type\":\"Circle\"},\"selection_glyph\":null,\"view\":{\"id\":\"66b7c48d-46e9-4a38-b52e-9630b1f8e188\",\"type\":\"CDSView\"}},\"id\":\"50ca4dac-ef74-49d5-bade-23ddfbeee46a\",\"type\":\"GlyphRenderer\"},{\"attributes\":{\"formatter\":{\"id\":\"b51e9892-52d2-4209-b09c-ea2f535370de\",\"type\":\"BasicTickFormatter\"},\"plot\":{\"id\":\"3314030a-ec91-4023-b1ba-9118e2bfdaa5\",\"subtype\":\"Figure\",\"type\":\"Plot\"},\"ticker\":{\"id\":\"2934e299-e4c1-4246-b1f7-9901bb7d430f\",\"type\":\"BasicTicker\"}},\"id\":\"e0aa2b8a-29dd-417d-88e4-0e9492238d86\",\"type\":\"LinearAxis\"},{\"attributes\":{\"plot\":null,\"text\":\"\"},\"id\":\"15f675f7-7c26-4193-a9ca-ace60fa4d14f\",\"type\":\"Title\"},{\"attributes\":{},\"id\":\"bd4cbdda-a2a2-49de-a83d-f2ff2ab3a515\",\"type\":\"SaveTool\"},{\"attributes\":{\"source\":{\"id\":\"9102e425-a66f-4889-a10f-4bf15ce8c928\",\"type\":\"ColumnDataSource\"}},\"id\":\"66b7c48d-46e9-4a38-b52e-9630b1f8e188\",\"type\":\"CDSView\"},{\"attributes\":{\"fill_alpha\":{\"value\":0.5},\"fill_color\":{\"value\":\"orange\"},\"line_color\":{\"value\":\"navy\"},\"radius\":{\"units\":\"data\",\"value\":0.1},\"x\":{\"field\":\"x\"},\"y\":{\"field\":\"y\"}},\"id\":\"c69f4b99-8b11-41c5-8d94-83567ff8fc5d\",\"type\":\"Circle\"},{\"attributes\":{},\"id\":\"d6a8861c-2d3a-4067-8fc6-8848c3c130be\",\"type\":\"ResetTool\"},{\"attributes\":{\"dimension\":1,\"plot\":{\"id\":\"3314030a-ec91-4023-b1ba-9118e2bfdaa5\",\"subtype\":\"Figure\",\"type\":\"Plot\"},\"ticker\":{\"id\":\"2934e299-e4c1-4246-b1f7-9901bb7d430f\",\"type\":\"BasicTicker\"}},\"id\":\"288c78e8-d133-4840-8449-d10f8a62d1a7\",\"type\":\"Grid\"},{\"attributes\":{\"formatter\":{\"id\":\"9f0ad0b8-313f-4365-82ff-422db38eef39\",\"type\":\"BasicTickFormatter\"},\"plot\":{\"id\":\"3314030a-ec91-4023-b1ba-9118e2bfdaa5\",\"subtype\":\"Figure\",\"type\":\"Plot\"},\"ticker\":{\"id\":\"81036565-a192-4a64-8882-d89609efde9b\",\"type\":\"BasicTicker\"}},\"id\":\"ca255aa4-6e40-4cf7-8179-3fc0b6467a33\",\"type\":\"LinearAxis\"},{\"attributes\":{},\"id\":\"10015478-72a8-453d-887e-0f4e7cf2660c\",\"type\":\"LinearScale\"},{\"attributes\":{\"callback\":null},\"id\":\"ead1adc1-c8f8-460f-b74e-cbe3bdbedec3\",\"type\":\"DataRange1d\"},{\"attributes\":{},\"id\":\"2934e299-e4c1-4246-b1f7-9901bb7d430f\",\"type\":\"BasicTicker\"},{\"attributes\":{\"callback\":null,\"column_names\":[\"x\",\"y\"],\"data\":{\"x\":[1,2,3,4,5],\"y\":[6,7,2,4,5]}},\"id\":\"9102e425-a66f-4889-a10f-4bf15ce8c928\",\"type\":\"ColumnDataSource\"},{\"attributes\":{\"callback\":null},\"id\":\"da5856d0-dc0b-4c66-9dc5-1d99e5abddab\",\"type\":\"DataRange1d\"},{\"attributes\":{},\"id\":\"c109368b-978b-49ef-91f7-34d4da23239f\",\"type\":\"LinearScale\"},{\"attributes\":{\"active_drag\":\"auto\",\"active_inspect\":\"auto\",\"active_scroll\":\"auto\",\"active_tap\":\"auto\",\"tools\":[{\"id\":\"bf513565-fb6f-463b-b2c5-0842b1d74913\",\"type\":\"PanTool\"},{\"id\":\"f6a0ea49-9537-44ea-9fd8-6939cdd38bb2\",\"type\":\"WheelZoomTool\"},{\"id\":\"b66dcc69-cd95-43e1-933d-e12ff7a772c6\",\"type\":\"BoxZoomTool\"},{\"id\":\"bd4cbdda-a2a2-49de-a83d-f2ff2ab3a515\",\"type\":\"SaveTool\"},{\"id\":\"d6a8861c-2d3a-4067-8fc6-8848c3c130be\",\"type\":\"ResetTool\"},{\"id\":\"5f618339-a5b1-4879-a2ab-9155804f5a8a\",\"type\":\"HelpTool\"}]},\"id\":\"f560877b-9791-4dbc-9637-2a4ba7e5e8e0\",\"type\":\"Toolbar\"},{\"attributes\":{\"fill_alpha\":{\"value\":0.1},\"fill_color\":{\"value\":\"#1f77b4\"},\"line_alpha\":{\"value\":0.1},\"line_color\":{\"value\":\"#1f77b4\"},\"radius\":{\"units\":\"data\",\"value\":0.1},\"x\":{\"field\":\"x\"},\"y\":{\"field\":\"y\"}},\"id\":\"2f0ea401-6087-4048-8446-08b9a41d6a44\",\"type\":\"Circle\"}],\"root_ids\":[\"3314030a-ec91-4023-b1ba-9118e2bfdaa5\"]},\"title\":\"Bokeh Application\",\"version\":\"0.12.10\"}};\n",
       "    var render_items = [{\"docid\":\"f89741f2-e7c6-49c3-bcd8-ffde560800cf\",\"elementid\":\"93bf20c6-e642-4d00-ae70-4329c622a117\",\"modelid\":\"3314030a-ec91-4023-b1ba-9118e2bfdaa5\"}];\n",
       "\n",
       "    root.Bokeh.embed.embed_items(docs_json, render_items);\n",
       "  }\n",
       "\n",
       "  if (root.Bokeh !== undefined) {\n",
       "    embed_document(root);\n",
       "  } else {\n",
       "    var attempts = 0;\n",
       "    var timer = setInterval(function(root) {\n",
       "      if (root.Bokeh !== undefined) {\n",
       "        embed_document(root);\n",
       "        clearInterval(timer);\n",
       "      }\n",
       "      attempts++;\n",
       "      if (attempts > 100) {\n",
       "        console.log(\"Bokeh: ERROR: Unable to embed document because BokehJS library is missing\")\n",
       "        clearInterval(timer);\n",
       "      }\n",
       "    }, 10, root)\n",
       "  }\n",
       "})(window);"
      ],
      "application/vnd.bokehjs_exec.v0+json": ""
     },
     "metadata": {
      "application/vnd.bokehjs_exec.v0+json": {
       "id": "3314030a-ec91-4023-b1ba-9118e2bfdaa5"
      }
     },
     "output_type": "display_data"
    }
   ],
   "source": [
    "# create a new plot with default tools, using figure\n",
    "p = figure(plot_width=400, plot_height=400)\n",
    "\n",
    "# add a circle renderer with a size, color, and alpha\n",
    "p.circle([1, 2, 3, 4, 5], [6, 7, 2, 4, 5], radius=.1, line_color=\"navy\", fill_color=\"orange\", fill_alpha=0.5)\n",
    "\n",
    "show(p) # show the results"
   ]
  },
  {
   "cell_type": "markdown",
   "metadata": {},
   "source": [
    "All Bokeh markers accept `size` (measured in screen space units) as a property. Circles also have `radius` (measured in \"data\" space units). "
   ]
  },
  {
   "cell_type": "code",
   "execution_count": 4,
   "metadata": {
    "collapsed": true
   },
   "outputs": [],
   "source": [
    "# EXERCISE: Try changing the example above to set a `radius` value instead of `size`\n",
    "\n"
   ]
  },
  {
   "cell_type": "markdown",
   "metadata": {},
   "source": [
    "To scatter square markers instead of circles, you can use the `square` method on figures. "
   ]
  },
  {
   "cell_type": "code",
   "execution_count": 12,
   "metadata": {},
   "outputs": [
    {
     "data": {
      "text/html": [
       "\n",
       "<div class=\"bk-root\">\n",
       "    <div class=\"bk-plotdiv\" id=\"2e4f4a1a-c82a-49b0-bfed-079940f3ce75\"></div>\n",
       "</div>"
      ]
     },
     "metadata": {},
     "output_type": "display_data"
    },
    {
     "data": {
      "application/javascript": [
       "(function(root) {\n",
       "  function embed_document(root) {\n",
       "    var docs_json = {\"f3163640-bf7a-4dee-bc7d-51b8051e8beb\":{\"roots\":{\"references\":[{\"attributes\":{\"fill_alpha\":{\"value\":0.1},\"fill_color\":{\"value\":\"#1f77b4\"},\"line_alpha\":{\"value\":0.1},\"line_color\":{\"value\":\"#1f77b4\"},\"size\":{\"field\":\"size\",\"units\":\"screen\"},\"x\":{\"field\":\"x\"},\"y\":{\"field\":\"y\"}},\"id\":\"4cbef55b-3bc8-46b1-b188-5f7d15a64c2a\",\"type\":\"Asterisk\"},{\"attributes\":{\"callback\":null,\"column_names\":[\"x\",\"y\",\"size\"],\"data\":{\"size\":[10,15,20,25,30],\"x\":[1,2,3,4,5],\"y\":[6,7,2,4,5]}},\"id\":\"7074cbc0-fe79-45e1-8532-041c41167a28\",\"type\":\"ColumnDataSource\"},{\"attributes\":{\"active_drag\":\"auto\",\"active_inspect\":\"auto\",\"active_scroll\":\"auto\",\"active_tap\":\"auto\",\"tools\":[{\"id\":\"a41ed198-5855-4145-8f19-d43ef9a40014\",\"type\":\"PanTool\"},{\"id\":\"b6786958-cfc4-44d1-894d-a346679f9425\",\"type\":\"WheelZoomTool\"},{\"id\":\"8c9208ea-b9b8-4a4e-9684-8b91908ace59\",\"type\":\"BoxZoomTool\"},{\"id\":\"6cb5f3aa-3263-421d-bb2f-8e1e2e3348d9\",\"type\":\"SaveTool\"},{\"id\":\"fca20560-9dbd-4a9d-b00e-95b617a77725\",\"type\":\"ResetTool\"},{\"id\":\"e9053eb6-c9cd-405d-8511-61ed6f509748\",\"type\":\"HelpTool\"}]},\"id\":\"3ec9167d-4276-40fb-b80d-61a3dbcf0796\",\"type\":\"Toolbar\"},{\"attributes\":{\"data_source\":{\"id\":\"7074cbc0-fe79-45e1-8532-041c41167a28\",\"type\":\"ColumnDataSource\"},\"glyph\":{\"id\":\"49b58ceb-5091-497a-84f5-d9dbba536c67\",\"type\":\"Asterisk\"},\"hover_glyph\":null,\"muted_glyph\":null,\"nonselection_glyph\":{\"id\":\"4cbef55b-3bc8-46b1-b188-5f7d15a64c2a\",\"type\":\"Asterisk\"},\"selection_glyph\":null,\"view\":{\"id\":\"c1d6d6c6-8550-4eb7-a267-ed189626fc4d\",\"type\":\"CDSView\"}},\"id\":\"58452894-f89c-428b-a750-6f8cf252c1aa\",\"type\":\"GlyphRenderer\"},{\"attributes\":{},\"id\":\"204f0875-cf9f-4b2d-843d-8018bedfa21c\",\"type\":\"LinearScale\"},{\"attributes\":{\"below\":[{\"id\":\"6dd3d761-2fa7-4a0c-9783-d9c36bc6a190\",\"type\":\"LinearAxis\"}],\"left\":[{\"id\":\"7ccde421-b8fb-4ce9-8a42-e46658e1cd3b\",\"type\":\"LinearAxis\"}],\"plot_height\":400,\"plot_width\":400,\"renderers\":[{\"id\":\"6dd3d761-2fa7-4a0c-9783-d9c36bc6a190\",\"type\":\"LinearAxis\"},{\"id\":\"62aabcce-7f5a-4a55-a695-71cc1590fa9d\",\"type\":\"Grid\"},{\"id\":\"7ccde421-b8fb-4ce9-8a42-e46658e1cd3b\",\"type\":\"LinearAxis\"},{\"id\":\"304178ab-f066-4764-8403-3a3c807a95bb\",\"type\":\"Grid\"},{\"id\":\"6e056f56-5f61-4ede-87a3-e5da24937cf1\",\"type\":\"BoxAnnotation\"},{\"id\":\"58452894-f89c-428b-a750-6f8cf252c1aa\",\"type\":\"GlyphRenderer\"}],\"title\":{\"id\":\"0272f26d-60c2-4306-954f-dfb14d432823\",\"type\":\"Title\"},\"toolbar\":{\"id\":\"3ec9167d-4276-40fb-b80d-61a3dbcf0796\",\"type\":\"Toolbar\"},\"x_range\":{\"id\":\"5f68c020-bfaf-4ebe-8229-100134e668c5\",\"type\":\"DataRange1d\"},\"x_scale\":{\"id\":\"204f0875-cf9f-4b2d-843d-8018bedfa21c\",\"type\":\"LinearScale\"},\"y_range\":{\"id\":\"8ac8f0e9-242b-48f7-b759-d38762c9b37a\",\"type\":\"DataRange1d\"},\"y_scale\":{\"id\":\"6f178395-7a0f-4b59-bb47-4862c59c20f8\",\"type\":\"LinearScale\"}},\"id\":\"b4f87421-b650-47be-93bd-a41abf45ebd9\",\"subtype\":\"Figure\",\"type\":\"Plot\"},{\"attributes\":{},\"id\":\"6f178395-7a0f-4b59-bb47-4862c59c20f8\",\"type\":\"LinearScale\"},{\"attributes\":{\"fill_alpha\":{\"value\":0.6},\"fill_color\":{\"value\":\"firebrick\"},\"line_alpha\":{\"value\":0.6},\"line_color\":{\"value\":\"firebrick\"},\"size\":{\"field\":\"size\",\"units\":\"screen\"},\"x\":{\"field\":\"x\"},\"y\":{\"field\":\"y\"}},\"id\":\"49b58ceb-5091-497a-84f5-d9dbba536c67\",\"type\":\"Asterisk\"},{\"attributes\":{\"overlay\":{\"id\":\"6e056f56-5f61-4ede-87a3-e5da24937cf1\",\"type\":\"BoxAnnotation\"}},\"id\":\"8c9208ea-b9b8-4a4e-9684-8b91908ace59\",\"type\":\"BoxZoomTool\"},{\"attributes\":{},\"id\":\"0eca9a46-3429-49c3-9b76-1044f15a7970\",\"type\":\"BasicTickFormatter\"},{\"attributes\":{},\"id\":\"74b07225-c0d7-4f80-be63-e7f3ccc60a6d\",\"type\":\"BasicTicker\"},{\"attributes\":{\"formatter\":{\"id\":\"0eca9a46-3429-49c3-9b76-1044f15a7970\",\"type\":\"BasicTickFormatter\"},\"plot\":{\"id\":\"b4f87421-b650-47be-93bd-a41abf45ebd9\",\"subtype\":\"Figure\",\"type\":\"Plot\"},\"ticker\":{\"id\":\"74b07225-c0d7-4f80-be63-e7f3ccc60a6d\",\"type\":\"BasicTicker\"}},\"id\":\"7ccde421-b8fb-4ce9-8a42-e46658e1cd3b\",\"type\":\"LinearAxis\"},{\"attributes\":{\"plot\":{\"id\":\"b4f87421-b650-47be-93bd-a41abf45ebd9\",\"subtype\":\"Figure\",\"type\":\"Plot\"},\"ticker\":{\"id\":\"482e8a03-6a99-4ab1-8f32-33b64c4831dc\",\"type\":\"BasicTicker\"}},\"id\":\"62aabcce-7f5a-4a55-a695-71cc1590fa9d\",\"type\":\"Grid\"},{\"attributes\":{},\"id\":\"6cb5f3aa-3263-421d-bb2f-8e1e2e3348d9\",\"type\":\"SaveTool\"},{\"attributes\":{},\"id\":\"482e8a03-6a99-4ab1-8f32-33b64c4831dc\",\"type\":\"BasicTicker\"},{\"attributes\":{},\"id\":\"a41ed198-5855-4145-8f19-d43ef9a40014\",\"type\":\"PanTool\"},{\"attributes\":{},\"id\":\"a285a1b4-b469-48a9-b19e-bad16c543ff6\",\"type\":\"BasicTickFormatter\"},{\"attributes\":{\"plot\":null,\"text\":\"\"},\"id\":\"0272f26d-60c2-4306-954f-dfb14d432823\",\"type\":\"Title\"},{\"attributes\":{},\"id\":\"fca20560-9dbd-4a9d-b00e-95b617a77725\",\"type\":\"ResetTool\"},{\"attributes\":{\"bottom_units\":\"screen\",\"fill_alpha\":{\"value\":0.5},\"fill_color\":{\"value\":\"lightgrey\"},\"left_units\":\"screen\",\"level\":\"overlay\",\"line_alpha\":{\"value\":1.0},\"line_color\":{\"value\":\"black\"},\"line_dash\":[4,4],\"line_width\":{\"value\":2},\"plot\":null,\"render_mode\":\"css\",\"right_units\":\"screen\",\"top_units\":\"screen\"},\"id\":\"6e056f56-5f61-4ede-87a3-e5da24937cf1\",\"type\":\"BoxAnnotation\"},{\"attributes\":{\"callback\":null},\"id\":\"8ac8f0e9-242b-48f7-b759-d38762c9b37a\",\"type\":\"DataRange1d\"},{\"attributes\":{},\"id\":\"e9053eb6-c9cd-405d-8511-61ed6f509748\",\"type\":\"HelpTool\"},{\"attributes\":{},\"id\":\"b6786958-cfc4-44d1-894d-a346679f9425\",\"type\":\"WheelZoomTool\"},{\"attributes\":{\"source\":{\"id\":\"7074cbc0-fe79-45e1-8532-041c41167a28\",\"type\":\"ColumnDataSource\"}},\"id\":\"c1d6d6c6-8550-4eb7-a267-ed189626fc4d\",\"type\":\"CDSView\"},{\"attributes\":{\"dimension\":1,\"plot\":{\"id\":\"b4f87421-b650-47be-93bd-a41abf45ebd9\",\"subtype\":\"Figure\",\"type\":\"Plot\"},\"ticker\":{\"id\":\"74b07225-c0d7-4f80-be63-e7f3ccc60a6d\",\"type\":\"BasicTicker\"}},\"id\":\"304178ab-f066-4764-8403-3a3c807a95bb\",\"type\":\"Grid\"},{\"attributes\":{\"callback\":null},\"id\":\"5f68c020-bfaf-4ebe-8229-100134e668c5\",\"type\":\"DataRange1d\"},{\"attributes\":{\"formatter\":{\"id\":\"a285a1b4-b469-48a9-b19e-bad16c543ff6\",\"type\":\"BasicTickFormatter\"},\"plot\":{\"id\":\"b4f87421-b650-47be-93bd-a41abf45ebd9\",\"subtype\":\"Figure\",\"type\":\"Plot\"},\"ticker\":{\"id\":\"482e8a03-6a99-4ab1-8f32-33b64c4831dc\",\"type\":\"BasicTicker\"}},\"id\":\"6dd3d761-2fa7-4a0c-9783-d9c36bc6a190\",\"type\":\"LinearAxis\"}],\"root_ids\":[\"b4f87421-b650-47be-93bd-a41abf45ebd9\"]},\"title\":\"Bokeh Application\",\"version\":\"0.12.10\"}};\n",
       "    var render_items = [{\"docid\":\"f3163640-bf7a-4dee-bc7d-51b8051e8beb\",\"elementid\":\"2e4f4a1a-c82a-49b0-bfed-079940f3ce75\",\"modelid\":\"b4f87421-b650-47be-93bd-a41abf45ebd9\"}];\n",
       "\n",
       "    root.Bokeh.embed.embed_items(docs_json, render_items);\n",
       "  }\n",
       "\n",
       "  if (root.Bokeh !== undefined) {\n",
       "    embed_document(root);\n",
       "  } else {\n",
       "    var attempts = 0;\n",
       "    var timer = setInterval(function(root) {\n",
       "      if (root.Bokeh !== undefined) {\n",
       "        embed_document(root);\n",
       "        clearInterval(timer);\n",
       "      }\n",
       "      attempts++;\n",
       "      if (attempts > 100) {\n",
       "        console.log(\"Bokeh: ERROR: Unable to embed document because BokehJS library is missing\")\n",
       "        clearInterval(timer);\n",
       "      }\n",
       "    }, 10, root)\n",
       "  }\n",
       "})(window);"
      ],
      "application/vnd.bokehjs_exec.v0+json": ""
     },
     "metadata": {
      "application/vnd.bokehjs_exec.v0+json": {
       "id": "b4f87421-b650-47be-93bd-a41abf45ebd9"
      }
     },
     "output_type": "display_data"
    }
   ],
   "source": [
    "# create a new plot using figure\n",
    "p = figure(plot_width=400, plot_height=400)\n",
    "\n",
    "# add a square renderer with a size, color, alpha, and sizes\n",
    "p.asterisk([1, 2, 3, 4, 5], [6, 7, 2, 4, 5], size=[10, 15, 20, 25, 30], color=\"firebrick\", alpha=0.6)\n",
    "\n",
    "show(p) # show the results"
   ]
  },
  {
   "cell_type": "markdown",
   "metadata": {},
   "source": [
    "Note that in the example above, we are also specifying different sizes for each individual marker. ***In general, all of a glyph's properties can be \"vectorized\" in this fashion. ***  Also note that we have passed ``color`` as a shorthand to set both the line and fill colors easily at the same time. This is a convenience specific to ``bokeh.plotting``.\n",
    "\n",
    "</table><p>There are many marker types available in Bokeh, you can see details and\n",
    "example plots for all of them in the reference guide by clicking on entries in the list below:</p>\n",
    "<table class=\"hlist\" style=\"float:left\"><tr><td><ul>\n",
    "<li><a href=\"http://bokeh.pydata.org/en/latest/docs/reference/plotting.html#bokeh.plotting.Figure.asterisk\" title=\"bokeh.plotting.Figure.asterisk\"><code class=\"xref py py-func docutils literal\"><span class=\"pre\">asterisk()</span></code></a></li>\n",
    "<li><a href=\"http://bokeh.pydata.org/en/latest/docs/reference/plotting.html#bokeh.plotting.Figure.circle\" title=\"bokeh.plotting.Figure.circle\"><code class=\"xref py py-func docutils literal\"><span class=\"pre\">circle()</span></code></a></li>\n",
    "<li><a href=\"http://bokeh.pydata.org/en/latest/docs/reference/plotting.html#bokeh.plotting.Figure.circle_cross\" title=\"bokeh.plotting.Figure.circle_cross\"><code class=\"xref py py-func docutils literal\"><span class=\"pre\">circle_cross()</span></code></a></li>\n",
    "<li><a href=\"http://bokeh.pydata.org/en/latest/docs/reference/plotting.html#bokeh.plotting.Figure.circle_x\" title=\"bokeh.plotting.Figure.circle_x\"><code class=\"xref py py-func docutils literal\"><span class=\"pre\">circle_x()</span></code></a></li>\n",
    "<li><a href=\"http://bokeh.pydata.org/en/latest/docs/reference/plotting.html#bokeh.plotting.Figure.cross\" title=\"bokeh.plotting.Figure.cross\"><code class=\"xref py py-func docutils literal\"><span class=\"pre\">cross()</span></code></a></li>\n",
    "</ul>\n",
    "</td><td><ul>\n",
    "<li><a href=\"http://bokeh.pydata.org/en/latest/docs/reference/plotting.html#bokeh.plotting.Figure.diamond\" title=\"bokeh.plotting.Figure.diamond\"><code class=\"xref py py-func docutils literal\"><span class=\"pre\">diamond()</span></code></a></li>\n",
    "<li><a href=\"http://bokeh.pydata.org/en/latest/docs/reference/plotting.html#bokeh.plotting.Figure.diamond_cross\" title=\"bokeh.plotting.Figure.diamond_cross\"><code class=\"xref py py-func docutils literal\"><span class=\"pre\">diamond_cross()</span></code></a></li>\n",
    "<li><a href=\"http://bokeh.pydata.org/en/latest/docs/reference/plotting.html#bokeh.plotting.Figure.inverted_triangle\" title=\"bokeh.plotting.Figure.inverted_triangle\"><code class=\"xref py py-func docutils literal\"><span class=\"pre\">inverted_triangle()</span></code></a></li>\n",
    "<li><a href=\"http://bokeh.pydata.org/en/latest/docs/reference/plotting.html#bokeh.plotting.Figure.square\" title=\"bokeh.plotting.Figure.square\"><code class=\"xref py py-func docutils literal\"><span class=\"pre\">square()</span></code></a></li>\n",
    "</ul>\n",
    "</td><td><ul>\n",
    "<li><a href=\"http://bokeh.pydata.org/en/latest/docs/reference/plotting.html#bokeh.plotting.Figure.square_cross\" title=\"bokeh.plotting.Figure.square_cross\"><code class=\"xref py py-func docutils literal\"><span class=\"pre\">square_cross()</span></code></a></li>\n",
    "<li><a href=\"http://bokeh.pydata.org/en/latest/docs/reference/plotting.html#bokeh.plotting.Figure.square_x\" title=\"bokeh.plotting.Figure.square_x\"><code class=\"xref py py-func docutils literal\"><span class=\"pre\">square_x()</span></code></a></li>\n",
    "<li><a href=\"http://bokeh.pydata.org/en/latest/docs/reference/plotting.html#bokeh.plotting.Figure.triangle\" title=\"bokeh.plotting.Figure.triangle\"><code class=\"xref py py-func docutils literal\"><span class=\"pre\">triangle()</span></code></a></li>\n",
    "<li><a href=\"http://bokeh.pydata.org/en/latest/docs/reference/plotting.html#bokeh.plotting.Figure.x\" title=\"bokeh.plotting.Figure.x\"><code class=\"xref py py-func docutils literal\"><span class=\"pre\">x()</span></code></a></li>\n",
    "</ul>\n",
    "</td></tr></table>"
   ]
  },
  {
   "cell_type": "code",
   "execution_count": 24,
   "metadata": {},
   "outputs": [
    {
     "data": {
      "text/html": [
       "\n",
       "<div class=\"bk-root\">\n",
       "    <div class=\"bk-plotdiv\" id=\"91e05a8c-927b-4713-beed-4179c6952423\"></div>\n",
       "</div>"
      ]
     },
     "metadata": {},
     "output_type": "display_data"
    },
    {
     "data": {
      "application/javascript": [
       "(function(root) {\n",
       "  function embed_document(root) {\n",
       "    var docs_json = {\"116df9b6-652a-48a8-9436-0f83aaaa8aaf\":{\"roots\":{\"references\":[{\"attributes\":{},\"id\":\"31f7097b-35b9-4bdf-8e87-2a29245d52ca\",\"type\":\"HelpTool\"},{\"attributes\":{\"plot\":{\"id\":\"6a4084c3-b747-444c-80fe-15386200584b\",\"subtype\":\"Figure\",\"type\":\"Plot\"},\"ticker\":{\"id\":\"8263a382-1c24-47ae-b6ae-07caa5ac374d\",\"type\":\"BasicTicker\"}},\"id\":\"af1a72c0-d3ee-4a96-9c59-015b6020f1a5\",\"type\":\"Grid\"},{\"attributes\":{},\"id\":\"c131514c-e7cf-43f4-ada3-742c9796e066\",\"type\":\"BasicTickFormatter\"},{\"attributes\":{\"data_source\":{\"id\":\"9b7fde75-cf1d-41c9-9730-7f8a9150eb8b\",\"type\":\"ColumnDataSource\"},\"glyph\":{\"id\":\"3beb2206-dd78-4bbe-8a15-37c5a7f46855\",\"type\":\"Diamond\"},\"hover_glyph\":null,\"muted_glyph\":null,\"nonselection_glyph\":{\"id\":\"33387a35-9e69-4f60-a33b-d1f70104e7d6\",\"type\":\"Diamond\"},\"selection_glyph\":null,\"view\":{\"id\":\"60098d8b-6298-4139-a1c4-009900c2199e\",\"type\":\"CDSView\"}},\"id\":\"fb4fb83a-f818-4bb7-9ec6-517b2c249926\",\"type\":\"GlyphRenderer\"},{\"attributes\":{},\"id\":\"8263a382-1c24-47ae-b6ae-07caa5ac374d\",\"type\":\"BasicTicker\"},{\"attributes\":{\"formatter\":{\"id\":\"a9eef83b-b311-458e-a6ed-2ddbd9007b54\",\"type\":\"BasicTickFormatter\"},\"plot\":{\"id\":\"6a4084c3-b747-444c-80fe-15386200584b\",\"subtype\":\"Figure\",\"type\":\"Plot\"},\"ticker\":{\"id\":\"8263a382-1c24-47ae-b6ae-07caa5ac374d\",\"type\":\"BasicTicker\"}},\"id\":\"5b58f6f7-0365-4cc0-82c4-bbfe6d61daed\",\"type\":\"LinearAxis\"},{\"attributes\":{\"formatter\":{\"id\":\"c131514c-e7cf-43f4-ada3-742c9796e066\",\"type\":\"BasicTickFormatter\"},\"plot\":{\"id\":\"6a4084c3-b747-444c-80fe-15386200584b\",\"subtype\":\"Figure\",\"type\":\"Plot\"},\"ticker\":{\"id\":\"9323ea07-674a-4b70-a32f-c5bc8101d9a0\",\"type\":\"BasicTicker\"}},\"id\":\"254ac69c-677e-4c89-982e-9d3cdd6889bc\",\"type\":\"LinearAxis\"},{\"attributes\":{},\"id\":\"ab694863-f208-454d-a24b-ae945bdd3c1c\",\"type\":\"SaveTool\"},{\"attributes\":{},\"id\":\"e2e19f96-e2d3-49ac-9ddd-7358ab47e954\",\"type\":\"PanTool\"},{\"attributes\":{\"below\":[{\"id\":\"5b58f6f7-0365-4cc0-82c4-bbfe6d61daed\",\"type\":\"LinearAxis\"}],\"left\":[{\"id\":\"254ac69c-677e-4c89-982e-9d3cdd6889bc\",\"type\":\"LinearAxis\"}],\"plot_height\":400,\"plot_width\":400,\"renderers\":[{\"id\":\"5b58f6f7-0365-4cc0-82c4-bbfe6d61daed\",\"type\":\"LinearAxis\"},{\"id\":\"af1a72c0-d3ee-4a96-9c59-015b6020f1a5\",\"type\":\"Grid\"},{\"id\":\"254ac69c-677e-4c89-982e-9d3cdd6889bc\",\"type\":\"LinearAxis\"},{\"id\":\"52da842b-a872-4de1-ab1d-4fae017f9d67\",\"type\":\"Grid\"},{\"id\":\"44897cfc-5772-4a37-a130-5fd6e46c0e72\",\"type\":\"BoxAnnotation\"},{\"id\":\"fb4fb83a-f818-4bb7-9ec6-517b2c249926\",\"type\":\"GlyphRenderer\"}],\"title\":{\"id\":\"b0a16c77-6492-4cde-94a9-85f2caa6e5b7\",\"type\":\"Title\"},\"toolbar\":{\"id\":\"718f81f9-8cb7-470f-9167-69e8ef7b4bb4\",\"type\":\"Toolbar\"},\"x_range\":{\"id\":\"971f0286-7024-4e41-98df-59584f530a51\",\"type\":\"DataRange1d\"},\"x_scale\":{\"id\":\"5a83cfcb-16db-4e41-acb5-c5d893e79a56\",\"type\":\"LinearScale\"},\"y_range\":{\"id\":\"862ece7a-8e6b-4446-8d66-a219de887a24\",\"type\":\"DataRange1d\"},\"y_scale\":{\"id\":\"9d548fda-a564-42a0-96e5-9aa9512c39df\",\"type\":\"LinearScale\"}},\"id\":\"6a4084c3-b747-444c-80fe-15386200584b\",\"subtype\":\"Figure\",\"type\":\"Plot\"},{\"attributes\":{},\"id\":\"24bc2b71-d53e-4f85-b3ad-f3964c2cca8c\",\"type\":\"WheelZoomTool\"},{\"attributes\":{},\"id\":\"9323ea07-674a-4b70-a32f-c5bc8101d9a0\",\"type\":\"BasicTicker\"},{\"attributes\":{\"callback\":null},\"id\":\"862ece7a-8e6b-4446-8d66-a219de887a24\",\"type\":\"DataRange1d\"},{\"attributes\":{\"callback\":null},\"id\":\"971f0286-7024-4e41-98df-59584f530a51\",\"type\":\"DataRange1d\"},{\"attributes\":{},\"id\":\"9d548fda-a564-42a0-96e5-9aa9512c39df\",\"type\":\"LinearScale\"},{\"attributes\":{\"active_drag\":\"auto\",\"active_inspect\":\"auto\",\"active_scroll\":\"auto\",\"active_tap\":\"auto\",\"tools\":[{\"id\":\"e2e19f96-e2d3-49ac-9ddd-7358ab47e954\",\"type\":\"PanTool\"},{\"id\":\"24bc2b71-d53e-4f85-b3ad-f3964c2cca8c\",\"type\":\"WheelZoomTool\"},{\"id\":\"c79c4883-09de-46fd-99af-43aea046e5cc\",\"type\":\"BoxZoomTool\"},{\"id\":\"ab694863-f208-454d-a24b-ae945bdd3c1c\",\"type\":\"SaveTool\"},{\"id\":\"d19aa698-b108-43da-9e70-f54b26755608\",\"type\":\"ResetTool\"},{\"id\":\"31f7097b-35b9-4bdf-8e87-2a29245d52ca\",\"type\":\"HelpTool\"}]},\"id\":\"718f81f9-8cb7-470f-9167-69e8ef7b4bb4\",\"type\":\"Toolbar\"},{\"attributes\":{},\"id\":\"a9eef83b-b311-458e-a6ed-2ddbd9007b54\",\"type\":\"BasicTickFormatter\"},{\"attributes\":{\"overlay\":{\"id\":\"44897cfc-5772-4a37-a130-5fd6e46c0e72\",\"type\":\"BoxAnnotation\"}},\"id\":\"c79c4883-09de-46fd-99af-43aea046e5cc\",\"type\":\"BoxZoomTool\"},{\"attributes\":{},\"id\":\"5a83cfcb-16db-4e41-acb5-c5d893e79a56\",\"type\":\"LinearScale\"},{\"attributes\":{\"bottom_units\":\"screen\",\"fill_alpha\":{\"value\":0.5},\"fill_color\":{\"value\":\"lightgrey\"},\"left_units\":\"screen\",\"level\":\"overlay\",\"line_alpha\":{\"value\":1.0},\"line_color\":{\"value\":\"black\"},\"line_dash\":[4,4],\"line_width\":{\"value\":2},\"plot\":null,\"render_mode\":\"css\",\"right_units\":\"screen\",\"top_units\":\"screen\"},\"id\":\"44897cfc-5772-4a37-a130-5fd6e46c0e72\",\"type\":\"BoxAnnotation\"},{\"attributes\":{\"callback\":null,\"column_names\":[\"x\",\"y\",\"fill_color\",\"line_color\"],\"data\":{\"fill_color\":[\"purple\",\"red\",\"red\",\"red\",\"green\",\"red\",\"red\",\"red\",\"red\"],\"line_color\":[\"purple\",\"red\",\"red\",\"red\",\"green\",\"red\",\"red\",\"red\",\"red\"],\"x\":[1,2,3,4,5,6,7,8,9],\"y\":[9,8,7,6,5,4,3,2,1]}},\"id\":\"9b7fde75-cf1d-41c9-9730-7f8a9150eb8b\",\"type\":\"ColumnDataSource\"},{\"attributes\":{\"source\":{\"id\":\"9b7fde75-cf1d-41c9-9730-7f8a9150eb8b\",\"type\":\"ColumnDataSource\"}},\"id\":\"60098d8b-6298-4139-a1c4-009900c2199e\",\"type\":\"CDSView\"},{\"attributes\":{},\"id\":\"d19aa698-b108-43da-9e70-f54b26755608\",\"type\":\"ResetTool\"},{\"attributes\":{\"fill_color\":{\"field\":\"fill_color\"},\"line_color\":{\"field\":\"line_color\"},\"size\":{\"units\":\"screen\",\"value\":40},\"x\":{\"field\":\"x\"},\"y\":{\"field\":\"y\"}},\"id\":\"3beb2206-dd78-4bbe-8a15-37c5a7f46855\",\"type\":\"Diamond\"},{\"attributes\":{\"fill_alpha\":{\"value\":0.1},\"fill_color\":{\"value\":\"#1f77b4\"},\"line_alpha\":{\"value\":0.1},\"line_color\":{\"value\":\"#1f77b4\"},\"size\":{\"units\":\"screen\",\"value\":40},\"x\":{\"field\":\"x\"},\"y\":{\"field\":\"y\"}},\"id\":\"33387a35-9e69-4f60-a33b-d1f70104e7d6\",\"type\":\"Diamond\"},{\"attributes\":{\"dimension\":1,\"plot\":{\"id\":\"6a4084c3-b747-444c-80fe-15386200584b\",\"subtype\":\"Figure\",\"type\":\"Plot\"},\"ticker\":{\"id\":\"9323ea07-674a-4b70-a32f-c5bc8101d9a0\",\"type\":\"BasicTicker\"}},\"id\":\"52da842b-a872-4de1-ab1d-4fae017f9d67\",\"type\":\"Grid\"},{\"attributes\":{\"plot\":null,\"text\":\"\"},\"id\":\"b0a16c77-6492-4cde-94a9-85f2caa6e5b7\",\"type\":\"Title\"}],\"root_ids\":[\"6a4084c3-b747-444c-80fe-15386200584b\"]},\"title\":\"Bokeh Application\",\"version\":\"0.12.10\"}};\n",
       "    var render_items = [{\"docid\":\"116df9b6-652a-48a8-9436-0f83aaaa8aaf\",\"elementid\":\"91e05a8c-927b-4713-beed-4179c6952423\",\"modelid\":\"6a4084c3-b747-444c-80fe-15386200584b\"}];\n",
       "\n",
       "    root.Bokeh.embed.embed_items(docs_json, render_items);\n",
       "  }\n",
       "\n",
       "  if (root.Bokeh !== undefined) {\n",
       "    embed_document(root);\n",
       "  } else {\n",
       "    var attempts = 0;\n",
       "    var timer = setInterval(function(root) {\n",
       "      if (root.Bokeh !== undefined) {\n",
       "        embed_document(root);\n",
       "        clearInterval(timer);\n",
       "      }\n",
       "      attempts++;\n",
       "      if (attempts > 100) {\n",
       "        console.log(\"Bokeh: ERROR: Unable to embed document because BokehJS library is missing\")\n",
       "        clearInterval(timer);\n",
       "      }\n",
       "    }, 10, root)\n",
       "  }\n",
       "})(window);"
      ],
      "application/vnd.bokehjs_exec.v0+json": ""
     },
     "metadata": {
      "application/vnd.bokehjs_exec.v0+json": {
       "id": "6a4084c3-b747-444c-80fe-15386200584b"
      }
     },
     "output_type": "display_data"
    }
   ],
   "source": [
    "# EXERCISE: Plot some different markers in this cell\n",
    "\n",
    "p = figure(plot_width = 400, plot_height = 400)\n",
    "\n",
    "p.diamond([1,2,3,4,5,6,7,8,9],[9,8,7,6,5,4,3,2,1], size=40, color=['purple',\"red\", \"red\", \"red\", \"green\", \"red\", \"red\", \"red\", \"red\"])\n",
    "\n",
    "show(p)"
   ]
  },
  {
   "cell_type": "markdown",
   "metadata": {},
   "source": [
    "# Basic Line Plots"
   ]
  },
  {
   "cell_type": "code",
   "execution_count": 26,
   "metadata": {},
   "outputs": [
    {
     "data": {
      "text/html": [
       "\n",
       "<div class=\"bk-root\">\n",
       "    <div class=\"bk-plotdiv\" id=\"cedb2699-a880-45fc-832d-53a5268942dc\"></div>\n",
       "</div>"
      ]
     },
     "metadata": {},
     "output_type": "display_data"
    },
    {
     "data": {
      "application/javascript": [
       "(function(root) {\n",
       "  function embed_document(root) {\n",
       "    var docs_json = {\"255cfe39-0b4e-4468-96d7-f262320e5473\":{\"roots\":{\"references\":[{\"attributes\":{\"line_alpha\":{\"value\":0.1},\"line_color\":{\"value\":\"#1f77b4\"},\"line_width\":{\"value\":6},\"x\":{\"field\":\"x\"},\"y\":{\"field\":\"y\"}},\"id\":\"16c2b0c8-9f37-4cd1-b738-85f67d6bbff3\",\"type\":\"Line\"},{\"attributes\":{},\"id\":\"a0c6ec32-8120-464b-b9fc-06a35ceb8e32\",\"type\":\"SaveTool\"},{\"attributes\":{\"overlay\":{\"id\":\"4c21b0fa-86cd-4d08-9a2a-08fc3ead7fd0\",\"type\":\"BoxAnnotation\"}},\"id\":\"a2e2db2b-c375-4c63-a134-4f2e952feb03\",\"type\":\"BoxZoomTool\"},{\"attributes\":{\"callback\":null,\"column_names\":[\"x\",\"y\"],\"data\":{\"x\":[1,2,3,4,5],\"y\":[6,7,2,4,5]}},\"id\":\"0ae8b5dd-ff99-45a4-86a1-0813d4bf2318\",\"type\":\"ColumnDataSource\"},{\"attributes\":{\"formatter\":{\"id\":\"9caebd07-66e5-4ad3-8adc-015db841edd9\",\"type\":\"BasicTickFormatter\"},\"plot\":{\"id\":\"3cc21166-6674-4d2a-b258-2dd1b04cf192\",\"subtype\":\"Figure\",\"type\":\"Plot\"},\"ticker\":{\"id\":\"3a609f32-27ab-4538-b719-f8523ba81de3\",\"type\":\"BasicTicker\"}},\"id\":\"7ee66cbc-3b45-4b1f-8633-c8edb4e31719\",\"type\":\"LinearAxis\"},{\"attributes\":{},\"id\":\"777391d1-4e32-40c4-955f-4eb7c54912fa\",\"type\":\"WheelZoomTool\"},{\"attributes\":{},\"id\":\"9caebd07-66e5-4ad3-8adc-015db841edd9\",\"type\":\"BasicTickFormatter\"},{\"attributes\":{\"below\":[{\"id\":\"7ee66cbc-3b45-4b1f-8633-c8edb4e31719\",\"type\":\"LinearAxis\"}],\"left\":[{\"id\":\"41f74274-8ea4-4b17-8f52-19970945b9d9\",\"type\":\"LinearAxis\"}],\"plot_height\":400,\"plot_width\":400,\"renderers\":[{\"id\":\"7ee66cbc-3b45-4b1f-8633-c8edb4e31719\",\"type\":\"LinearAxis\"},{\"id\":\"efc5e254-ab1b-4641-a724-a39f404d1566\",\"type\":\"Grid\"},{\"id\":\"41f74274-8ea4-4b17-8f52-19970945b9d9\",\"type\":\"LinearAxis\"},{\"id\":\"79f17ab0-2608-483a-8bec-b1251b9895bc\",\"type\":\"Grid\"},{\"id\":\"4c21b0fa-86cd-4d08-9a2a-08fc3ead7fd0\",\"type\":\"BoxAnnotation\"},{\"id\":\"cf66f302-9903-4422-a490-e0f40fc2c920\",\"type\":\"GlyphRenderer\"}],\"title\":{\"id\":\"59f3880f-0e65-4d8b-ac88-3d9624c69add\",\"type\":\"Title\"},\"toolbar\":{\"id\":\"c7d842cc-7f53-4ed1-b76e-96d9a6a272ea\",\"type\":\"Toolbar\"},\"x_range\":{\"id\":\"4ddd3b5e-3acc-4f29-a911-1b8914dda558\",\"type\":\"DataRange1d\"},\"x_scale\":{\"id\":\"5c6f25f1-ed19-466e-9bf6-28c00023a63b\",\"type\":\"LinearScale\"},\"y_range\":{\"id\":\"25d9f2c3-4588-4d56-abe2-9ecdfc6de9ac\",\"type\":\"DataRange1d\"},\"y_scale\":{\"id\":\"586903fa-bb4b-4e45-a6ae-1fcf241e55da\",\"type\":\"LinearScale\"}},\"id\":\"3cc21166-6674-4d2a-b258-2dd1b04cf192\",\"subtype\":\"Figure\",\"type\":\"Plot\"},{\"attributes\":{},\"id\":\"3a609f32-27ab-4538-b719-f8523ba81de3\",\"type\":\"BasicTicker\"},{\"attributes\":{},\"id\":\"586903fa-bb4b-4e45-a6ae-1fcf241e55da\",\"type\":\"LinearScale\"},{\"attributes\":{\"plot\":null,\"text\":\"My Line Plot\"},\"id\":\"59f3880f-0e65-4d8b-ac88-3d9624c69add\",\"type\":\"Title\"},{\"attributes\":{},\"id\":\"5c6f25f1-ed19-466e-9bf6-28c00023a63b\",\"type\":\"LinearScale\"},{\"attributes\":{},\"id\":\"65dde56d-bae1-48d3-9ae8-f37c68e32527\",\"type\":\"BasicTickFormatter\"},{\"attributes\":{\"callback\":null},\"id\":\"25d9f2c3-4588-4d56-abe2-9ecdfc6de9ac\",\"type\":\"DataRange1d\"},{\"attributes\":{\"source\":{\"id\":\"0ae8b5dd-ff99-45a4-86a1-0813d4bf2318\",\"type\":\"ColumnDataSource\"}},\"id\":\"f34539e1-5ce0-4676-b3aa-ecd5c44cafd1\",\"type\":\"CDSView\"},{\"attributes\":{\"plot\":{\"id\":\"3cc21166-6674-4d2a-b258-2dd1b04cf192\",\"subtype\":\"Figure\",\"type\":\"Plot\"},\"ticker\":{\"id\":\"3a609f32-27ab-4538-b719-f8523ba81de3\",\"type\":\"BasicTicker\"}},\"id\":\"efc5e254-ab1b-4641-a724-a39f404d1566\",\"type\":\"Grid\"},{\"attributes\":{},\"id\":\"a1a4bb5b-b4a4-4f52-b958-6a57732b1402\",\"type\":\"HelpTool\"},{\"attributes\":{},\"id\":\"1ec822a7-2f59-4153-9857-6de93eba89a3\",\"type\":\"ResetTool\"},{\"attributes\":{\"dimension\":1,\"plot\":{\"id\":\"3cc21166-6674-4d2a-b258-2dd1b04cf192\",\"subtype\":\"Figure\",\"type\":\"Plot\"},\"ticker\":{\"id\":\"a1b4cb32-7666-4612-a567-8cc92134877c\",\"type\":\"BasicTicker\"}},\"id\":\"79f17ab0-2608-483a-8bec-b1251b9895bc\",\"type\":\"Grid\"},{\"attributes\":{\"line_color\":{\"value\":\"#1f77b4\"},\"line_width\":{\"value\":6},\"x\":{\"field\":\"x\"},\"y\":{\"field\":\"y\"}},\"id\":\"80c30b7a-f132-4e2b-a074-638e28cb1feb\",\"type\":\"Line\"},{\"attributes\":{},\"id\":\"564b59a8-698d-48b1-b21e-cb9b6b9d3b2e\",\"type\":\"PanTool\"},{\"attributes\":{\"bottom_units\":\"screen\",\"fill_alpha\":{\"value\":0.5},\"fill_color\":{\"value\":\"lightgrey\"},\"left_units\":\"screen\",\"level\":\"overlay\",\"line_alpha\":{\"value\":1.0},\"line_color\":{\"value\":\"black\"},\"line_dash\":[4,4],\"line_width\":{\"value\":2},\"plot\":null,\"render_mode\":\"css\",\"right_units\":\"screen\",\"top_units\":\"screen\"},\"id\":\"4c21b0fa-86cd-4d08-9a2a-08fc3ead7fd0\",\"type\":\"BoxAnnotation\"},{\"attributes\":{\"formatter\":{\"id\":\"65dde56d-bae1-48d3-9ae8-f37c68e32527\",\"type\":\"BasicTickFormatter\"},\"plot\":{\"id\":\"3cc21166-6674-4d2a-b258-2dd1b04cf192\",\"subtype\":\"Figure\",\"type\":\"Plot\"},\"ticker\":{\"id\":\"a1b4cb32-7666-4612-a567-8cc92134877c\",\"type\":\"BasicTicker\"}},\"id\":\"41f74274-8ea4-4b17-8f52-19970945b9d9\",\"type\":\"LinearAxis\"},{\"attributes\":{\"data_source\":{\"id\":\"0ae8b5dd-ff99-45a4-86a1-0813d4bf2318\",\"type\":\"ColumnDataSource\"},\"glyph\":{\"id\":\"80c30b7a-f132-4e2b-a074-638e28cb1feb\",\"type\":\"Line\"},\"hover_glyph\":null,\"muted_glyph\":null,\"nonselection_glyph\":{\"id\":\"16c2b0c8-9f37-4cd1-b738-85f67d6bbff3\",\"type\":\"Line\"},\"selection_glyph\":null,\"view\":{\"id\":\"f34539e1-5ce0-4676-b3aa-ecd5c44cafd1\",\"type\":\"CDSView\"}},\"id\":\"cf66f302-9903-4422-a490-e0f40fc2c920\",\"type\":\"GlyphRenderer\"},{\"attributes\":{\"active_drag\":\"auto\",\"active_inspect\":\"auto\",\"active_scroll\":\"auto\",\"active_tap\":\"auto\",\"tools\":[{\"id\":\"564b59a8-698d-48b1-b21e-cb9b6b9d3b2e\",\"type\":\"PanTool\"},{\"id\":\"777391d1-4e32-40c4-955f-4eb7c54912fa\",\"type\":\"WheelZoomTool\"},{\"id\":\"a2e2db2b-c375-4c63-a134-4f2e952feb03\",\"type\":\"BoxZoomTool\"},{\"id\":\"a0c6ec32-8120-464b-b9fc-06a35ceb8e32\",\"type\":\"SaveTool\"},{\"id\":\"1ec822a7-2f59-4153-9857-6de93eba89a3\",\"type\":\"ResetTool\"},{\"id\":\"a1a4bb5b-b4a4-4f52-b958-6a57732b1402\",\"type\":\"HelpTool\"}]},\"id\":\"c7d842cc-7f53-4ed1-b76e-96d9a6a272ea\",\"type\":\"Toolbar\"},{\"attributes\":{\"callback\":null},\"id\":\"4ddd3b5e-3acc-4f29-a911-1b8914dda558\",\"type\":\"DataRange1d\"},{\"attributes\":{},\"id\":\"a1b4cb32-7666-4612-a567-8cc92134877c\",\"type\":\"BasicTicker\"}],\"root_ids\":[\"3cc21166-6674-4d2a-b258-2dd1b04cf192\"]},\"title\":\"Bokeh Application\",\"version\":\"0.12.10\"}};\n",
       "    var render_items = [{\"docid\":\"255cfe39-0b4e-4468-96d7-f262320e5473\",\"elementid\":\"cedb2699-a880-45fc-832d-53a5268942dc\",\"modelid\":\"3cc21166-6674-4d2a-b258-2dd1b04cf192\"}];\n",
       "\n",
       "    root.Bokeh.embed.embed_items(docs_json, render_items);\n",
       "  }\n",
       "\n",
       "  if (root.Bokeh !== undefined) {\n",
       "    embed_document(root);\n",
       "  } else {\n",
       "    var attempts = 0;\n",
       "    var timer = setInterval(function(root) {\n",
       "      if (root.Bokeh !== undefined) {\n",
       "        embed_document(root);\n",
       "        clearInterval(timer);\n",
       "      }\n",
       "      attempts++;\n",
       "      if (attempts > 100) {\n",
       "        console.log(\"Bokeh: ERROR: Unable to embed document because BokehJS library is missing\")\n",
       "        clearInterval(timer);\n",
       "      }\n",
       "    }, 10, root)\n",
       "  }\n",
       "})(window);"
      ],
      "application/vnd.bokehjs_exec.v0+json": ""
     },
     "metadata": {
      "application/vnd.bokehjs_exec.v0+json": {
       "id": "3cc21166-6674-4d2a-b258-2dd1b04cf192"
      }
     },
     "output_type": "display_data"
    }
   ],
   "source": [
    "# create a new plot (with a title) using figure\n",
    "p = figure(plot_width=400, plot_height=400, title=\"My Line Plot\")\n",
    "\n",
    "# add a line renderer\n",
    "p.line([1, 2, 3, 4, 5], [6, 7, 2, 4, 5], line_width=6)\n",
    "\n",
    "show(p) # show the results"
   ]
  },
  {
   "cell_type": "markdown",
   "metadata": {},
   "source": [
    "# Images"
   ]
  },
  {
   "cell_type": "markdown",
   "metadata": {},
   "source": [
    "The example below shows how to use the `image_rgba` method to display raw RGBA data. \n",
    "\n",
    "**Note**: This example makes use of the NumPy library "
   ]
  },
  {
   "cell_type": "code",
   "execution_count": 31,
   "metadata": {},
   "outputs": [
    {
     "data": {
      "text/html": [
       "\n",
       "<div class=\"bk-root\">\n",
       "    <div class=\"bk-plotdiv\" id=\"7fba9775-63ab-42d4-ac4a-fe8514732d2c\"></div>\n",
       "</div>"
      ]
     },
     "metadata": {},
     "output_type": "display_data"
    },
    {
     "data": {
      "application/javascript": [
       "(function(root) {\n",
       "  function embed_document(root) {\n",
       "    var docs_json = {\"0f97a729-b4ef-4b43-8883-d6aeb33985f7\":{\"roots\":{\"references\":[{\"attributes\":{\"formatter\":{\"id\":\"961f4110-e92d-4de8-8740-49ed78b99f44\",\"type\":\"BasicTickFormatter\"},\"plot\":{\"id\":\"69d97351-4f53-4e0a-8433-4a00193ef9f2\",\"subtype\":\"Figure\",\"type\":\"Plot\"},\"ticker\":{\"id\":\"71650946-1c6b-4357-839b-763bc4c7b1cf\",\"type\":\"BasicTicker\"}},\"id\":\"5bd700af-d675-47c5-b601-f895558e60d8\",\"type\":\"LinearAxis\"},{\"attributes\":{},\"id\":\"0a250f75-9c0e-4cd3-87a3-74d1cfee1a8b\",\"type\":\"LinearScale\"},{\"attributes\":{},\"id\":\"927fb105-9ee0-4f45-ab94-a8500bb3c172\",\"type\":\"BasicTicker\"},{\"attributes\":{},\"id\":\"de3ce3fb-cf15-4f92-a2aa-f27756f3d062\",\"type\":\"PanTool\"},{\"attributes\":{},\"id\":\"05e777d3-4ae1-4570-a3d0-db6bb4bfd0c6\",\"type\":\"BasicTickFormatter\"},{\"attributes\":{\"dimension\":1,\"plot\":{\"id\":\"69d97351-4f53-4e0a-8433-4a00193ef9f2\",\"subtype\":\"Figure\",\"type\":\"Plot\"},\"ticker\":{\"id\":\"927fb105-9ee0-4f45-ab94-a8500bb3c172\",\"type\":\"BasicTicker\"}},\"id\":\"d567b731-f7a3-4e3b-9369-83c09aa8b8b6\",\"type\":\"Grid\"},{\"attributes\":{},\"id\":\"ba0c2a5e-892d-4df3-8971-88f3470b047b\",\"type\":\"LinearScale\"},{\"attributes\":{\"data_source\":{\"id\":\"f982cefc-4bd6-4bf7-ba04-2f048b9c01a6\",\"type\":\"ColumnDataSource\"},\"glyph\":{\"id\":\"c5deaa8d-13cf-4e1f-b43b-3744b3e4cb8b\",\"type\":\"ImageRGBA\"},\"hover_glyph\":null,\"muted_glyph\":null,\"nonselection_glyph\":{\"id\":\"15401239-319c-4efa-817a-03f2a3b4dae5\",\"type\":\"ImageRGBA\"},\"selection_glyph\":null,\"view\":{\"id\":\"be8d6dd6-d3b2-4c13-affb-1ebbdf64cdcd\",\"type\":\"CDSView\"}},\"id\":\"04e8065a-81a9-41bf-8152-9068a1de9e07\",\"type\":\"GlyphRenderer\"},{\"attributes\":{\"callback\":null,\"end\":10},\"id\":\"5c6b05c2-d538-4d4f-956a-1e6610d59ec8\",\"type\":\"Range1d\"},{\"attributes\":{\"formatter\":{\"id\":\"05e777d3-4ae1-4570-a3d0-db6bb4bfd0c6\",\"type\":\"BasicTickFormatter\"},\"plot\":{\"id\":\"69d97351-4f53-4e0a-8433-4a00193ef9f2\",\"subtype\":\"Figure\",\"type\":\"Plot\"},\"ticker\":{\"id\":\"927fb105-9ee0-4f45-ab94-a8500bb3c172\",\"type\":\"BasicTicker\"}},\"id\":\"b5f93099-67b2-4285-a223-8eedcca1f1c2\",\"type\":\"LinearAxis\"},{\"attributes\":{\"source\":{\"id\":\"f982cefc-4bd6-4bf7-ba04-2f048b9c01a6\",\"type\":\"ColumnDataSource\"}},\"id\":\"be8d6dd6-d3b2-4c13-affb-1ebbdf64cdcd\",\"type\":\"CDSView\"},{\"attributes\":{},\"id\":\"ea0abc3e-ac20-417e-a59b-2951c78bef1a\",\"type\":\"ResetTool\"},{\"attributes\":{\"plot\":null,\"text\":\"\"},\"id\":\"520a9eaa-f75c-426a-8baa-f3ee574a55ba\",\"type\":\"Title\"},{\"attributes\":{\"callback\":null,\"column_names\":[\"image\",\"x\",\"y\",\"dw\",\"dh\"],\"data\":{\"dh\":[10],\"dw\":[10],\"image\":[{\"__ndarray__\":\"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\",\"dtype\":\"uint32\",\"shape\":[20,20]}],\"x\":[0],\"y\":[0]}},\"id\":\"f982cefc-4bd6-4bf7-ba04-2f048b9c01a6\",\"type\":\"ColumnDataSource\"},{\"attributes\":{},\"id\":\"961f4110-e92d-4de8-8740-49ed78b99f44\",\"type\":\"BasicTickFormatter\"},{\"attributes\":{\"overlay\":{\"id\":\"49c30559-3f0e-4e76-852c-cd89f19e5fba\",\"type\":\"BoxAnnotation\"}},\"id\":\"8602b219-edd5-44aa-81f3-0f2819f884b2\",\"type\":\"BoxZoomTool\"},{\"attributes\":{\"bottom_units\":\"screen\",\"fill_alpha\":{\"value\":0.5},\"fill_color\":{\"value\":\"lightgrey\"},\"left_units\":\"screen\",\"level\":\"overlay\",\"line_alpha\":{\"value\":1.0},\"line_color\":{\"value\":\"black\"},\"line_dash\":[4,4],\"line_width\":{\"value\":2},\"plot\":null,\"render_mode\":\"css\",\"right_units\":\"screen\",\"top_units\":\"screen\"},\"id\":\"49c30559-3f0e-4e76-852c-cd89f19e5fba\",\"type\":\"BoxAnnotation\"},{\"attributes\":{},\"id\":\"9795acdc-9fb5-48f8-ac3f-913d7d0f882d\",\"type\":\"WheelZoomTool\"},{\"attributes\":{},\"id\":\"5ba17b1a-094a-497a-b6dc-b4585309d91c\",\"type\":\"SaveTool\"},{\"attributes\":{\"dh\":{\"field\":\"dh\",\"units\":\"data\"},\"dw\":{\"field\":\"dw\",\"units\":\"data\"},\"image\":{\"field\":\"image\"},\"x\":{\"field\":\"x\"},\"y\":{\"field\":\"y\"}},\"id\":\"15401239-319c-4efa-817a-03f2a3b4dae5\",\"type\":\"ImageRGBA\"},{\"attributes\":{\"plot\":{\"id\":\"69d97351-4f53-4e0a-8433-4a00193ef9f2\",\"subtype\":\"Figure\",\"type\":\"Plot\"},\"ticker\":{\"id\":\"71650946-1c6b-4357-839b-763bc4c7b1cf\",\"type\":\"BasicTicker\"}},\"id\":\"d872d471-c3c4-4a45-ba46-6b370357ee4a\",\"type\":\"Grid\"},{\"attributes\":{\"dh\":{\"field\":\"dh\",\"units\":\"data\"},\"dw\":{\"field\":\"dw\",\"units\":\"data\"},\"image\":{\"field\":\"image\"},\"x\":{\"field\":\"x\"},\"y\":{\"field\":\"y\"}},\"id\":\"c5deaa8d-13cf-4e1f-b43b-3744b3e4cb8b\",\"type\":\"ImageRGBA\"},{\"attributes\":{\"below\":[{\"id\":\"5bd700af-d675-47c5-b601-f895558e60d8\",\"type\":\"LinearAxis\"}],\"left\":[{\"id\":\"b5f93099-67b2-4285-a223-8eedcca1f1c2\",\"type\":\"LinearAxis\"}],\"renderers\":[{\"id\":\"5bd700af-d675-47c5-b601-f895558e60d8\",\"type\":\"LinearAxis\"},{\"id\":\"d872d471-c3c4-4a45-ba46-6b370357ee4a\",\"type\":\"Grid\"},{\"id\":\"b5f93099-67b2-4285-a223-8eedcca1f1c2\",\"type\":\"LinearAxis\"},{\"id\":\"d567b731-f7a3-4e3b-9369-83c09aa8b8b6\",\"type\":\"Grid\"},{\"id\":\"49c30559-3f0e-4e76-852c-cd89f19e5fba\",\"type\":\"BoxAnnotation\"},{\"id\":\"04e8065a-81a9-41bf-8152-9068a1de9e07\",\"type\":\"GlyphRenderer\"}],\"title\":{\"id\":\"520a9eaa-f75c-426a-8baa-f3ee574a55ba\",\"type\":\"Title\"},\"toolbar\":{\"id\":\"207e938a-ba24-4a26-b0fd-7f7227250ba8\",\"type\":\"Toolbar\"},\"x_range\":{\"id\":\"5c6b05c2-d538-4d4f-956a-1e6610d59ec8\",\"type\":\"Range1d\"},\"x_scale\":{\"id\":\"0a250f75-9c0e-4cd3-87a3-74d1cfee1a8b\",\"type\":\"LinearScale\"},\"y_range\":{\"id\":\"62620aca-9754-4ecf-b0cc-0aac58896cd0\",\"type\":\"Range1d\"},\"y_scale\":{\"id\":\"ba0c2a5e-892d-4df3-8971-88f3470b047b\",\"type\":\"LinearScale\"}},\"id\":\"69d97351-4f53-4e0a-8433-4a00193ef9f2\",\"subtype\":\"Figure\",\"type\":\"Plot\"},{\"attributes\":{\"callback\":null,\"end\":10},\"id\":\"62620aca-9754-4ecf-b0cc-0aac58896cd0\",\"type\":\"Range1d\"},{\"attributes\":{\"active_drag\":\"auto\",\"active_inspect\":\"auto\",\"active_scroll\":\"auto\",\"active_tap\":\"auto\",\"tools\":[{\"id\":\"de3ce3fb-cf15-4f92-a2aa-f27756f3d062\",\"type\":\"PanTool\"},{\"id\":\"9795acdc-9fb5-48f8-ac3f-913d7d0f882d\",\"type\":\"WheelZoomTool\"},{\"id\":\"8602b219-edd5-44aa-81f3-0f2819f884b2\",\"type\":\"BoxZoomTool\"},{\"id\":\"5ba17b1a-094a-497a-b6dc-b4585309d91c\",\"type\":\"SaveTool\"},{\"id\":\"ea0abc3e-ac20-417e-a59b-2951c78bef1a\",\"type\":\"ResetTool\"},{\"id\":\"8c0f57be-8e2f-4a05-b573-3cda06d3eb28\",\"type\":\"HelpTool\"}]},\"id\":\"207e938a-ba24-4a26-b0fd-7f7227250ba8\",\"type\":\"Toolbar\"},{\"attributes\":{},\"id\":\"8c0f57be-8e2f-4a05-b573-3cda06d3eb28\",\"type\":\"HelpTool\"},{\"attributes\":{},\"id\":\"71650946-1c6b-4357-839b-763bc4c7b1cf\",\"type\":\"BasicTicker\"}],\"root_ids\":[\"69d97351-4f53-4e0a-8433-4a00193ef9f2\"]},\"title\":\"Bokeh Application\",\"version\":\"0.12.10\"}};\n",
       "    var render_items = [{\"docid\":\"0f97a729-b4ef-4b43-8883-d6aeb33985f7\",\"elementid\":\"7fba9775-63ab-42d4-ac4a-fe8514732d2c\",\"modelid\":\"69d97351-4f53-4e0a-8433-4a00193ef9f2\"}];\n",
       "\n",
       "    root.Bokeh.embed.embed_items(docs_json, render_items);\n",
       "  }\n",
       "\n",
       "  if (root.Bokeh !== undefined) {\n",
       "    embed_document(root);\n",
       "  } else {\n",
       "    var attempts = 0;\n",
       "    var timer = setInterval(function(root) {\n",
       "      if (root.Bokeh !== undefined) {\n",
       "        embed_document(root);\n",
       "        clearInterval(timer);\n",
       "      }\n",
       "      attempts++;\n",
       "      if (attempts > 100) {\n",
       "        console.log(\"Bokeh: ERROR: Unable to embed document because BokehJS library is missing\")\n",
       "        clearInterval(timer);\n",
       "      }\n",
       "    }, 10, root)\n",
       "  }\n",
       "})(window);"
      ],
      "application/vnd.bokehjs_exec.v0+json": ""
     },
     "metadata": {
      "application/vnd.bokehjs_exec.v0+json": {
       "id": "69d97351-4f53-4e0a-8433-4a00193ef9f2"
      }
     },
     "output_type": "display_data"
    }
   ],
   "source": [
    "from __future__ import division\n",
    "import numpy as np\n",
    "\n",
    "# set up some data\n",
    "N = 20\n",
    "img = np.empty((N,N), dtype=np.uint32)\n",
    "view = img.view(dtype=np.uint8).reshape((N, N, 4))\n",
    "for i in range(N):\n",
    "    for j in range(N):\n",
    "        view[i, j, 0] = int(i/N*255) # red\n",
    "        view[i, j, 1] = 158          # green\n",
    "        view[i, j, 2] = int(j/N*255) # blue\n",
    "        view[i, j, 3] = 255          # alpha\n",
    "        \n",
    "# create a new plot (with a fixed range) using figure\n",
    "p = figure(x_range=[0,10], y_range=[0,10])\n",
    "\n",
    "# add an RGBA image renderer\n",
    "p.image_rgba(image=[img], x=[0], y=[0], dw=[10], dh=[10])\n",
    "\n",
    "show(p) # show the results"
   ]
  },
  {
   "cell_type": "markdown",
   "metadata": {},
   "source": [
    "# Other Kinds of Glyphs\n",
    "\n",
    "Bokeh supports many other kinds of glyphs. You can click on the User Guide links below to see how to create plots with these glyphs using the [`bokeh.plotting`](http://bokeh.pydata.org/en/latest/docs/user_guide/plotting.html) interface.\n",
    "\n",
    "* [Rectangles and Ovals](http://bokeh.pydata.org/en/latest/docs/user_guide/plotting.html#rectangles-and-ovals)\n",
    "* [Segments and Rays](http://bokeh.pydata.org/en/latest/docs/user_guide/plotting.html#segments-and-rays)\n",
    "* [Wedges and Arcs](http://bokeh.pydata.org/en/latest/docs/user_guide/plotting.html#wedges-and-arcs)\n",
    "* [Specialized Curves](http://bokeh.pydata.org/en/latest/docs/user_guide/plotting.html#specialized-curves)\n"
   ]
  },
  {
   "cell_type": "code",
   "execution_count": 46,
   "metadata": {},
   "outputs": [
    {
     "data": {
      "text/html": [
       "\n",
       "<div class=\"bk-root\">\n",
       "    <div class=\"bk-plotdiv\" id=\"2d367879-4e8b-4ece-b1c8-9e580a55ec5f\"></div>\n",
       "</div>"
      ]
     },
     "metadata": {},
     "output_type": "display_data"
    },
    {
     "data": {
      "application/javascript": [
       "(function(root) {\n",
       "  function embed_document(root) {\n",
       "    var docs_json = {\"03c56bbe-b5a4-4d1b-bee6-d49a026e66f1\":{\"roots\":{\"references\":[{\"attributes\":{\"callback\":null,\"column_names\":[\"x\",\"y\"],\"data\":{\"x\":[1,2,3],\"y\":[1,2,3]}},\"id\":\"30c68c59-7498-492d-9e6f-d72357fde518\",\"type\":\"ColumnDataSource\"},{\"attributes\":{},\"id\":\"2c58d29f-67a7-4c3c-bf9a-d55af7404976\",\"type\":\"LinearScale\"},{\"attributes\":{\"below\":[{\"id\":\"fe9594ab-e79b-4eee-ba8f-7c10543400c1\",\"type\":\"LinearAxis\"}],\"left\":[{\"id\":\"c839e9cc-5e5a-4777-ad5f-ad82bb9fb090\",\"type\":\"LinearAxis\"}],\"plot_height\":400,\"plot_width\":400,\"renderers\":[{\"id\":\"fe9594ab-e79b-4eee-ba8f-7c10543400c1\",\"type\":\"LinearAxis\"},{\"id\":\"de210942-5c68-434d-922b-f3a4fe44dcc1\",\"type\":\"Grid\"},{\"id\":\"c839e9cc-5e5a-4777-ad5f-ad82bb9fb090\",\"type\":\"LinearAxis\"},{\"id\":\"1f46ee00-410e-4233-9bdc-307f6f991a42\",\"type\":\"Grid\"},{\"id\":\"3abbbc67-df86-4f20-816a-5bf39ffff417\",\"type\":\"BoxAnnotation\"},{\"id\":\"34c59ef5-ba4c-4ee0-86bc-9f56701d608a\",\"type\":\"GlyphRenderer\"}],\"title\":{\"id\":\"aac1b5ec-1e34-4434-8faf-7e220b4a3b45\",\"type\":\"Title\"},\"toolbar\":{\"id\":\"06a4d1a0-f482-4351-ba7f-44d7c3870c72\",\"type\":\"Toolbar\"},\"x_range\":{\"id\":\"c586b973-fd53-4ae1-b39e-7d25a662a6f7\",\"type\":\"DataRange1d\"},\"x_scale\":{\"id\":\"2c58d29f-67a7-4c3c-bf9a-d55af7404976\",\"type\":\"LinearScale\"},\"y_range\":{\"id\":\"01f0e18e-b7e7-44a4-add7-93af960a6e67\",\"type\":\"DataRange1d\"},\"y_scale\":{\"id\":\"82dafcb5-2352-479b-984c-c593e2f67b08\",\"type\":\"LinearScale\"}},\"id\":\"14aa522a-f748-41ab-b6a8-69c44f111745\",\"subtype\":\"Figure\",\"type\":\"Plot\"},{\"attributes\":{\"overlay\":{\"id\":\"3abbbc67-df86-4f20-816a-5bf39ffff417\",\"type\":\"BoxAnnotation\"}},\"id\":\"a68d4ad1-9ed7-480b-8de3-3e5151a5d1ec\",\"type\":\"BoxZoomTool\"},{\"attributes\":{\"plot\":null,\"text\":\"\"},\"id\":\"aac1b5ec-1e34-4434-8faf-7e220b4a3b45\",\"type\":\"Title\"},{\"attributes\":{},\"id\":\"becccb4e-d19a-4dbc-8b65-e5d60dab89ce\",\"type\":\"SaveTool\"},{\"attributes\":{\"end_angle\":{\"units\":\"rad\",\"value\":5},\"fill_alpha\":{\"value\":0.7},\"fill_color\":{\"value\":\"green\"},\"inner_radius\":{\"units\":\"data\",\"value\":0.1},\"line_alpha\":{\"value\":0.7},\"line_color\":{\"value\":\"green\"},\"outer_radius\":{\"units\":\"data\",\"value\":0.25},\"start_angle\":{\"units\":\"rad\",\"value\":0},\"x\":{\"field\":\"x\"},\"y\":{\"field\":\"y\"}},\"id\":\"51d34c59-217f-4b61-a1cd-8ae34ee961fa\",\"type\":\"AnnularWedge\"},{\"attributes\":{\"callback\":null},\"id\":\"c586b973-fd53-4ae1-b39e-7d25a662a6f7\",\"type\":\"DataRange1d\"},{\"attributes\":{\"callback\":null},\"id\":\"01f0e18e-b7e7-44a4-add7-93af960a6e67\",\"type\":\"DataRange1d\"},{\"attributes\":{\"dimension\":1,\"plot\":{\"id\":\"14aa522a-f748-41ab-b6a8-69c44f111745\",\"subtype\":\"Figure\",\"type\":\"Plot\"},\"ticker\":{\"id\":\"58fb6735-9a72-4e1d-a309-e89618d8edc1\",\"type\":\"BasicTicker\"}},\"id\":\"1f46ee00-410e-4233-9bdc-307f6f991a42\",\"type\":\"Grid\"},{\"attributes\":{},\"id\":\"7043fa93-b4b8-45b9-98e2-1a762f2ecd25\",\"type\":\"WheelZoomTool\"},{\"attributes\":{\"bottom_units\":\"screen\",\"fill_alpha\":{\"value\":0.5},\"fill_color\":{\"value\":\"lightgrey\"},\"left_units\":\"screen\",\"level\":\"overlay\",\"line_alpha\":{\"value\":1.0},\"line_color\":{\"value\":\"black\"},\"line_dash\":[4,4],\"line_width\":{\"value\":2},\"plot\":null,\"render_mode\":\"css\",\"right_units\":\"screen\",\"top_units\":\"screen\"},\"id\":\"3abbbc67-df86-4f20-816a-5bf39ffff417\",\"type\":\"BoxAnnotation\"},{\"attributes\":{},\"id\":\"9b20e22c-8dbc-4ba6-9949-3e628ac7dd6c\",\"type\":\"PanTool\"},{\"attributes\":{},\"id\":\"232732b0-a63e-44bc-9dc4-b2aa71f5bac0\",\"type\":\"BasicTickFormatter\"},{\"attributes\":{\"end_angle\":{\"units\":\"rad\",\"value\":5},\"fill_alpha\":{\"value\":0.1},\"fill_color\":{\"value\":\"#1f77b4\"},\"inner_radius\":{\"units\":\"data\",\"value\":0.1},\"line_alpha\":{\"value\":0.1},\"line_color\":{\"value\":\"#1f77b4\"},\"outer_radius\":{\"units\":\"data\",\"value\":0.25},\"start_angle\":{\"units\":\"rad\",\"value\":0},\"x\":{\"field\":\"x\"},\"y\":{\"field\":\"y\"}},\"id\":\"75f9be9e-fa69-43eb-9d79-d7c55f0246c2\",\"type\":\"AnnularWedge\"},{\"attributes\":{},\"id\":\"b0da5551-6e2a-4da5-8db3-d0b6fdc8d1dd\",\"type\":\"HelpTool\"},{\"attributes\":{\"formatter\":{\"id\":\"232732b0-a63e-44bc-9dc4-b2aa71f5bac0\",\"type\":\"BasicTickFormatter\"},\"plot\":{\"id\":\"14aa522a-f748-41ab-b6a8-69c44f111745\",\"subtype\":\"Figure\",\"type\":\"Plot\"},\"ticker\":{\"id\":\"58fb6735-9a72-4e1d-a309-e89618d8edc1\",\"type\":\"BasicTicker\"}},\"id\":\"c839e9cc-5e5a-4777-ad5f-ad82bb9fb090\",\"type\":\"LinearAxis\"},{\"attributes\":{},\"id\":\"58fb6735-9a72-4e1d-a309-e89618d8edc1\",\"type\":\"BasicTicker\"},{\"attributes\":{\"active_drag\":\"auto\",\"active_inspect\":\"auto\",\"active_scroll\":\"auto\",\"active_tap\":\"auto\",\"tools\":[{\"id\":\"9b20e22c-8dbc-4ba6-9949-3e628ac7dd6c\",\"type\":\"PanTool\"},{\"id\":\"7043fa93-b4b8-45b9-98e2-1a762f2ecd25\",\"type\":\"WheelZoomTool\"},{\"id\":\"a68d4ad1-9ed7-480b-8de3-3e5151a5d1ec\",\"type\":\"BoxZoomTool\"},{\"id\":\"becccb4e-d19a-4dbc-8b65-e5d60dab89ce\",\"type\":\"SaveTool\"},{\"id\":\"6e7634d0-4f1f-4e3f-9cc9-88b66d239469\",\"type\":\"ResetTool\"},{\"id\":\"b0da5551-6e2a-4da5-8db3-d0b6fdc8d1dd\",\"type\":\"HelpTool\"}]},\"id\":\"06a4d1a0-f482-4351-ba7f-44d7c3870c72\",\"type\":\"Toolbar\"},{\"attributes\":{\"source\":{\"id\":\"30c68c59-7498-492d-9e6f-d72357fde518\",\"type\":\"ColumnDataSource\"}},\"id\":\"b983e78c-eede-4565-bc6a-b8824a256ee4\",\"type\":\"CDSView\"},{\"attributes\":{},\"id\":\"6e7634d0-4f1f-4e3f-9cc9-88b66d239469\",\"type\":\"ResetTool\"},{\"attributes\":{\"plot\":{\"id\":\"14aa522a-f748-41ab-b6a8-69c44f111745\",\"subtype\":\"Figure\",\"type\":\"Plot\"},\"ticker\":{\"id\":\"30f07ce3-11a1-4082-91d2-7e68df24c9bb\",\"type\":\"BasicTicker\"}},\"id\":\"de210942-5c68-434d-922b-f3a4fe44dcc1\",\"type\":\"Grid\"},{\"attributes\":{},\"id\":\"d048f8b4-c2d0-47ff-bb4f-2a48a4218be0\",\"type\":\"BasicTickFormatter\"},{\"attributes\":{\"data_source\":{\"id\":\"30c68c59-7498-492d-9e6f-d72357fde518\",\"type\":\"ColumnDataSource\"},\"glyph\":{\"id\":\"51d34c59-217f-4b61-a1cd-8ae34ee961fa\",\"type\":\"AnnularWedge\"},\"hover_glyph\":null,\"muted_glyph\":null,\"nonselection_glyph\":{\"id\":\"75f9be9e-fa69-43eb-9d79-d7c55f0246c2\",\"type\":\"AnnularWedge\"},\"selection_glyph\":null,\"view\":{\"id\":\"b983e78c-eede-4565-bc6a-b8824a256ee4\",\"type\":\"CDSView\"}},\"id\":\"34c59ef5-ba4c-4ee0-86bc-9f56701d608a\",\"type\":\"GlyphRenderer\"},{\"attributes\":{},\"id\":\"82dafcb5-2352-479b-984c-c593e2f67b08\",\"type\":\"LinearScale\"},{\"attributes\":{},\"id\":\"30f07ce3-11a1-4082-91d2-7e68df24c9bb\",\"type\":\"BasicTicker\"},{\"attributes\":{\"formatter\":{\"id\":\"d048f8b4-c2d0-47ff-bb4f-2a48a4218be0\",\"type\":\"BasicTickFormatter\"},\"plot\":{\"id\":\"14aa522a-f748-41ab-b6a8-69c44f111745\",\"subtype\":\"Figure\",\"type\":\"Plot\"},\"ticker\":{\"id\":\"30f07ce3-11a1-4082-91d2-7e68df24c9bb\",\"type\":\"BasicTicker\"}},\"id\":\"fe9594ab-e79b-4eee-ba8f-7c10543400c1\",\"type\":\"LinearAxis\"}],\"root_ids\":[\"14aa522a-f748-41ab-b6a8-69c44f111745\"]},\"title\":\"Bokeh Application\",\"version\":\"0.12.10\"}};\n",
       "    var render_items = [{\"docid\":\"03c56bbe-b5a4-4d1b-bee6-d49a026e66f1\",\"elementid\":\"2d367879-4e8b-4ece-b1c8-9e580a55ec5f\",\"modelid\":\"14aa522a-f748-41ab-b6a8-69c44f111745\"}];\n",
       "\n",
       "    root.Bokeh.embed.embed_items(docs_json, render_items);\n",
       "  }\n",
       "\n",
       "  if (root.Bokeh !== undefined) {\n",
       "    embed_document(root);\n",
       "  } else {\n",
       "    var attempts = 0;\n",
       "    var timer = setInterval(function(root) {\n",
       "      if (root.Bokeh !== undefined) {\n",
       "        embed_document(root);\n",
       "        clearInterval(timer);\n",
       "      }\n",
       "      attempts++;\n",
       "      if (attempts > 100) {\n",
       "        console.log(\"Bokeh: ERROR: Unable to embed document because BokehJS library is missing\")\n",
       "        clearInterval(timer);\n",
       "      }\n",
       "    }, 10, root)\n",
       "  }\n",
       "})(window);"
      ],
      "application/vnd.bokehjs_exec.v0+json": ""
     },
     "metadata": {
      "application/vnd.bokehjs_exec.v0+json": {
       "id": "14aa522a-f748-41ab-b6a8-69c44f111745"
      }
     },
     "output_type": "display_data"
    }
   ],
   "source": [
    "# EXERCISE: Plot some of the other glyph types, following the examples in the User Guide. \n",
    "p = figure(plot_width=400, plot_height=400)\n",
    "p.annular_wedge(x=[1,2,3],y=[1,2,3],inner_radius=0.1,outer_radius=0.25,start_angle=0, end_angle=5\n",
    "                ,color='green',alpha=0.7)\n",
    "\n",
    "show(p)"
   ]
  },
  {
   "cell_type": "markdown",
   "metadata": {},
   "source": [
    "# Plots with Multiple Glyphs \n",
    "\n",
    "It is possible to combine more than one glyph on a single figure. You just need to call multiple glyph methods on one figure object:"
   ]
  },
  {
   "cell_type": "code",
   "execution_count": 49,
   "metadata": {},
   "outputs": [
    {
     "data": {
      "text/html": [
       "\n",
       "<div class=\"bk-root\">\n",
       "    <div class=\"bk-plotdiv\" id=\"d357a61b-b5b4-4cb8-85c5-0cecafbd769e\"></div>\n",
       "</div>"
      ]
     },
     "metadata": {},
     "output_type": "display_data"
    },
    {
     "data": {
      "application/javascript": [
       "(function(root) {\n",
       "  function embed_document(root) {\n",
       "    var docs_json = {\"416db1db-22f7-4d0f-b1b5-1436be0f7cd4\":{\"roots\":{\"references\":[{\"attributes\":{\"active_drag\":\"auto\",\"active_inspect\":\"auto\",\"active_scroll\":\"auto\",\"active_tap\":\"auto\",\"tools\":[{\"id\":\"dec8cf18-6e38-4812-ba54-c789acb4001f\",\"type\":\"PanTool\"},{\"id\":\"07f09164-4a83-4e44-bf29-7766bdda6267\",\"type\":\"WheelZoomTool\"},{\"id\":\"c4725f01-ea45-451d-938f-b81f06368f26\",\"type\":\"BoxZoomTool\"},{\"id\":\"5a95faa0-cdae-4dfa-a60f-5949dd607683\",\"type\":\"SaveTool\"},{\"id\":\"96057e68-c158-4671-b448-afcbe657b934\",\"type\":\"ResetTool\"},{\"id\":\"308d55df-81ef-4ff3-805c-c0d264b56dea\",\"type\":\"HelpTool\"}]},\"id\":\"07fad21c-e6bc-43bd-8d90-21a79254ea59\",\"type\":\"Toolbar\"},{\"attributes\":{\"callback\":null,\"column_names\":[\"x\",\"y\"],\"data\":{\"x\":[1,2,3,4,5],\"y\":[6,7,8,7,3]}},\"id\":\"d20f431c-e66e-4fa2-aa0c-810524e7790a\",\"type\":\"ColumnDataSource\"},{\"attributes\":{\"plot\":{\"id\":\"35572722-b8b2-49e3-8e05-8b89dd8bbdd7\",\"subtype\":\"Figure\",\"type\":\"Plot\"},\"ticker\":{\"id\":\"0d55502b-f41d-45ed-9ba2-0fbd895c0f9c\",\"type\":\"BasicTicker\"}},\"id\":\"31c9e172-ab99-4bef-9d81-b5cd7bb07876\",\"type\":\"Grid\"},{\"attributes\":{},\"id\":\"07f09164-4a83-4e44-bf29-7766bdda6267\",\"type\":\"WheelZoomTool\"},{\"attributes\":{\"fill_color\":{\"value\":\"white\"},\"line_color\":{\"value\":\"#1f77b4\"},\"size\":{\"units\":\"screen\",\"value\":8},\"x\":{\"field\":\"x\"},\"y\":{\"field\":\"y\"}},\"id\":\"dff8de64-5b2c-4ae9-9bed-881327fdd153\",\"type\":\"Circle\"},{\"attributes\":{\"callback\":null},\"id\":\"c62c13ba-801b-4d6a-a1c9-621604705111\",\"type\":\"DataRange1d\"},{\"attributes\":{\"overlay\":{\"id\":\"9909d1c8-72d6-4d27-992d-1c3e8f8ec64b\",\"type\":\"BoxAnnotation\"}},\"id\":\"c4725f01-ea45-451d-938f-b81f06368f26\",\"type\":\"BoxZoomTool\"},{\"attributes\":{\"bottom_units\":\"screen\",\"fill_alpha\":{\"value\":0.5},\"fill_color\":{\"value\":\"lightgrey\"},\"left_units\":\"screen\",\"level\":\"overlay\",\"line_alpha\":{\"value\":1.0},\"line_color\":{\"value\":\"black\"},\"line_dash\":[4,4],\"line_width\":{\"value\":2},\"plot\":null,\"render_mode\":\"css\",\"right_units\":\"screen\",\"top_units\":\"screen\"},\"id\":\"9909d1c8-72d6-4d27-992d-1c3e8f8ec64b\",\"type\":\"BoxAnnotation\"},{\"attributes\":{},\"id\":\"fd44fa05-81c8-4e20-af1a-9c4729f3f158\",\"type\":\"LinearScale\"},{\"attributes\":{\"plot\":null,\"text\":\"\"},\"id\":\"4636ce02-2778-4832-8d29-100b57d48157\",\"type\":\"Title\"},{\"attributes\":{},\"id\":\"407f2f42-085d-4de4-bcbe-32af3678b642\",\"type\":\"LinearScale\"},{\"attributes\":{},\"id\":\"dec8cf18-6e38-4812-ba54-c789acb4001f\",\"type\":\"PanTool\"},{\"attributes\":{\"data_source\":{\"id\":\"d20f431c-e66e-4fa2-aa0c-810524e7790a\",\"type\":\"ColumnDataSource\"},\"glyph\":{\"id\":\"75de112e-8379-4107-81dc-f4dab8b65f68\",\"type\":\"Line\"},\"hover_glyph\":null,\"muted_glyph\":null,\"nonselection_glyph\":{\"id\":\"a659719c-cc74-4dbb-9d6d-cf7a77aa298c\",\"type\":\"Line\"},\"selection_glyph\":null,\"view\":{\"id\":\"7293815c-5098-4b17-ab2a-9af486980163\",\"type\":\"CDSView\"}},\"id\":\"53c1cfe2-5731-4f33-8b16-f2b8806657f6\",\"type\":\"GlyphRenderer\"},{\"attributes\":{\"fill_alpha\":{\"value\":0.1},\"fill_color\":{\"value\":\"#1f77b4\"},\"line_alpha\":{\"value\":0.1},\"line_color\":{\"value\":\"#1f77b4\"},\"size\":{\"units\":\"screen\",\"value\":8},\"x\":{\"field\":\"x\"},\"y\":{\"field\":\"y\"}},\"id\":\"e4da5b2d-3c5d-41fe-b1ae-ad6c7cbb371d\",\"type\":\"Circle\"},{\"attributes\":{},\"id\":\"0d55502b-f41d-45ed-9ba2-0fbd895c0f9c\",\"type\":\"BasicTicker\"},{\"attributes\":{\"formatter\":{\"id\":\"c7be47b8-e38a-4127-81e9-ede177adf0db\",\"type\":\"BasicTickFormatter\"},\"plot\":{\"id\":\"35572722-b8b2-49e3-8e05-8b89dd8bbdd7\",\"subtype\":\"Figure\",\"type\":\"Plot\"},\"ticker\":{\"id\":\"8427d740-8899-49c2-bfb3-5b4d503413b2\",\"type\":\"BasicTicker\"}},\"id\":\"da4880b9-c162-459c-b9cd-148793f36c36\",\"type\":\"LinearAxis\"},{\"attributes\":{\"dimension\":1,\"plot\":{\"id\":\"35572722-b8b2-49e3-8e05-8b89dd8bbdd7\",\"subtype\":\"Figure\",\"type\":\"Plot\"},\"ticker\":{\"id\":\"8427d740-8899-49c2-bfb3-5b4d503413b2\",\"type\":\"BasicTicker\"}},\"id\":\"9c2cbb98-0749-4322-a9a6-a2bb1990a650\",\"type\":\"Grid\"},{\"attributes\":{\"callback\":null,\"column_names\":[\"x\",\"y\"],\"data\":{\"x\":[1,2,3,4,5],\"y\":[6,7,8,7,3]}},\"id\":\"73edfb47-e6e4-45bb-a525-26a40af8ffb4\",\"type\":\"ColumnDataSource\"},{\"attributes\":{},\"id\":\"98b5150e-59ef-45c6-b1a1-0aae3f0bd090\",\"type\":\"BasicTickFormatter\"},{\"attributes\":{\"callback\":null},\"id\":\"b01309ba-84c1-41bc-9de9-a7dc36c95c96\",\"type\":\"DataRange1d\"},{\"attributes\":{},\"id\":\"308d55df-81ef-4ff3-805c-c0d264b56dea\",\"type\":\"HelpTool\"},{\"attributes\":{\"below\":[{\"id\":\"f8eca4dd-681e-420b-b2bc-089fb7d3cfae\",\"type\":\"LinearAxis\"}],\"left\":[{\"id\":\"da4880b9-c162-459c-b9cd-148793f36c36\",\"type\":\"LinearAxis\"}],\"plot_height\":400,\"plot_width\":400,\"renderers\":[{\"id\":\"f8eca4dd-681e-420b-b2bc-089fb7d3cfae\",\"type\":\"LinearAxis\"},{\"id\":\"31c9e172-ab99-4bef-9d81-b5cd7bb07876\",\"type\":\"Grid\"},{\"id\":\"da4880b9-c162-459c-b9cd-148793f36c36\",\"type\":\"LinearAxis\"},{\"id\":\"9c2cbb98-0749-4322-a9a6-a2bb1990a650\",\"type\":\"Grid\"},{\"id\":\"9909d1c8-72d6-4d27-992d-1c3e8f8ec64b\",\"type\":\"BoxAnnotation\"},{\"id\":\"53c1cfe2-5731-4f33-8b16-f2b8806657f6\",\"type\":\"GlyphRenderer\"},{\"id\":\"3f0b99ad-2786-45f4-8835-6c39cd2ea349\",\"type\":\"GlyphRenderer\"}],\"title\":{\"id\":\"4636ce02-2778-4832-8d29-100b57d48157\",\"type\":\"Title\"},\"toolbar\":{\"id\":\"07fad21c-e6bc-43bd-8d90-21a79254ea59\",\"type\":\"Toolbar\"},\"x_range\":{\"id\":\"b01309ba-84c1-41bc-9de9-a7dc36c95c96\",\"type\":\"DataRange1d\"},\"x_scale\":{\"id\":\"fd44fa05-81c8-4e20-af1a-9c4729f3f158\",\"type\":\"LinearScale\"},\"y_range\":{\"id\":\"c62c13ba-801b-4d6a-a1c9-621604705111\",\"type\":\"DataRange1d\"},\"y_scale\":{\"id\":\"407f2f42-085d-4de4-bcbe-32af3678b642\",\"type\":\"LinearScale\"}},\"id\":\"35572722-b8b2-49e3-8e05-8b89dd8bbdd7\",\"subtype\":\"Figure\",\"type\":\"Plot\"},{\"attributes\":{},\"id\":\"96057e68-c158-4671-b448-afcbe657b934\",\"type\":\"ResetTool\"},{\"attributes\":{\"source\":{\"id\":\"73edfb47-e6e4-45bb-a525-26a40af8ffb4\",\"type\":\"ColumnDataSource\"}},\"id\":\"94966682-b51e-4720-aa62-6903e6e5c9c8\",\"type\":\"CDSView\"},{\"attributes\":{\"line_alpha\":{\"value\":0.1},\"line_color\":{\"value\":\"#1f77b4\"},\"line_width\":{\"value\":2},\"x\":{\"field\":\"x\"},\"y\":{\"field\":\"y\"}},\"id\":\"a659719c-cc74-4dbb-9d6d-cf7a77aa298c\",\"type\":\"Line\"},{\"attributes\":{\"line_color\":{\"value\":\"#1f77b4\"},\"line_width\":{\"value\":2},\"x\":{\"field\":\"x\"},\"y\":{\"field\":\"y\"}},\"id\":\"75de112e-8379-4107-81dc-f4dab8b65f68\",\"type\":\"Line\"},{\"attributes\":{\"data_source\":{\"id\":\"73edfb47-e6e4-45bb-a525-26a40af8ffb4\",\"type\":\"ColumnDataSource\"},\"glyph\":{\"id\":\"dff8de64-5b2c-4ae9-9bed-881327fdd153\",\"type\":\"Circle\"},\"hover_glyph\":null,\"muted_glyph\":null,\"nonselection_glyph\":{\"id\":\"e4da5b2d-3c5d-41fe-b1ae-ad6c7cbb371d\",\"type\":\"Circle\"},\"selection_glyph\":null,\"view\":{\"id\":\"94966682-b51e-4720-aa62-6903e6e5c9c8\",\"type\":\"CDSView\"}},\"id\":\"3f0b99ad-2786-45f4-8835-6c39cd2ea349\",\"type\":\"GlyphRenderer\"},{\"attributes\":{\"source\":{\"id\":\"d20f431c-e66e-4fa2-aa0c-810524e7790a\",\"type\":\"ColumnDataSource\"}},\"id\":\"7293815c-5098-4b17-ab2a-9af486980163\",\"type\":\"CDSView\"},{\"attributes\":{},\"id\":\"8427d740-8899-49c2-bfb3-5b4d503413b2\",\"type\":\"BasicTicker\"},{\"attributes\":{\"formatter\":{\"id\":\"98b5150e-59ef-45c6-b1a1-0aae3f0bd090\",\"type\":\"BasicTickFormatter\"},\"plot\":{\"id\":\"35572722-b8b2-49e3-8e05-8b89dd8bbdd7\",\"subtype\":\"Figure\",\"type\":\"Plot\"},\"ticker\":{\"id\":\"0d55502b-f41d-45ed-9ba2-0fbd895c0f9c\",\"type\":\"BasicTicker\"}},\"id\":\"f8eca4dd-681e-420b-b2bc-089fb7d3cfae\",\"type\":\"LinearAxis\"},{\"attributes\":{},\"id\":\"5a95faa0-cdae-4dfa-a60f-5949dd607683\",\"type\":\"SaveTool\"},{\"attributes\":{},\"id\":\"c7be47b8-e38a-4127-81e9-ede177adf0db\",\"type\":\"BasicTickFormatter\"}],\"root_ids\":[\"35572722-b8b2-49e3-8e05-8b89dd8bbdd7\"]},\"title\":\"Bokeh Application\",\"version\":\"0.12.10\"}};\n",
       "    var render_items = [{\"docid\":\"416db1db-22f7-4d0f-b1b5-1436be0f7cd4\",\"elementid\":\"d357a61b-b5b4-4cb8-85c5-0cecafbd769e\",\"modelid\":\"35572722-b8b2-49e3-8e05-8b89dd8bbdd7\"}];\n",
       "\n",
       "    root.Bokeh.embed.embed_items(docs_json, render_items);\n",
       "  }\n",
       "\n",
       "  if (root.Bokeh !== undefined) {\n",
       "    embed_document(root);\n",
       "  } else {\n",
       "    var attempts = 0;\n",
       "    var timer = setInterval(function(root) {\n",
       "      if (root.Bokeh !== undefined) {\n",
       "        embed_document(root);\n",
       "        clearInterval(timer);\n",
       "      }\n",
       "      attempts++;\n",
       "      if (attempts > 100) {\n",
       "        console.log(\"Bokeh: ERROR: Unable to embed document because BokehJS library is missing\")\n",
       "        clearInterval(timer);\n",
       "      }\n",
       "    }, 10, root)\n",
       "  }\n",
       "})(window);"
      ],
      "application/vnd.bokehjs_exec.v0+json": ""
     },
     "metadata": {
      "application/vnd.bokehjs_exec.v0+json": {
       "id": "35572722-b8b2-49e3-8e05-8b89dd8bbdd7"
      }
     },
     "output_type": "display_data"
    }
   ],
   "source": [
    "# set up some data\n",
    "x = [1, 2, 3, 4, 5]\n",
    "y = [6, 7, 8, 7, 3]\n",
    "\n",
    "# create a new plot with figure\n",
    "p = figure(plot_width=400, plot_height=400)\n",
    "\n",
    "# add both a line and circles on the same plot\n",
    "p.line(x, y, line_width=2)\n",
    "p.circle(x, y, fill_color=\"white\", size=8)\n",
    "\n",
    "show(p) # show the results"
   ]
  },
  {
   "cell_type": "code",
   "execution_count": 61,
   "metadata": {},
   "outputs": [
    {
     "data": {
      "text/html": [
       "\n",
       "<div class=\"bk-root\">\n",
       "    <div class=\"bk-plotdiv\" id=\"927720df-741e-464e-96d7-4ec2cd9d461f\"></div>\n",
       "</div>"
      ]
     },
     "metadata": {},
     "output_type": "display_data"
    },
    {
     "data": {
      "application/javascript": [
       "(function(root) {\n",
       "  function embed_document(root) {\n",
       "    var docs_json = {\"0fb95e83-e5fe-4dac-b1af-0b0347815388\":{\"roots\":{\"references\":[{\"attributes\":{\"active_drag\":\"auto\",\"active_inspect\":\"auto\",\"active_scroll\":\"auto\",\"active_tap\":\"auto\",\"tools\":[{\"id\":\"38d85769-3c35-4f8b-aae4-f19832daf8e0\",\"type\":\"PanTool\"},{\"id\":\"99eca996-ddc7-438d-8253-497385e7a598\",\"type\":\"WheelZoomTool\"},{\"id\":\"9e0023f8-7935-4f8c-999b-c6989d976c7f\",\"type\":\"BoxZoomTool\"},{\"id\":\"beb0cf65-f29a-42b8-a224-416dfda514ae\",\"type\":\"SaveTool\"},{\"id\":\"f853f822-d7f3-4152-a098-4465cd508e7f\",\"type\":\"ResetTool\"},{\"id\":\"87c0b58f-1bcb-419d-ade6-101051d504d1\",\"type\":\"HelpTool\"}]},\"id\":\"229657e3-933f-47cb-adf6-3bfde22ae9bc\",\"type\":\"Toolbar\"},{\"attributes\":{\"callback\":null},\"id\":\"61a9b6b9-f8c6-411c-a362-46ad5a4d14ea\",\"type\":\"DataRange1d\"},{\"attributes\":{\"below\":[{\"id\":\"36257352-bf8b-406e-904e-2784b0f35d22\",\"type\":\"LinearAxis\"}],\"left\":[{\"id\":\"d941dfad-0c03-4c16-a8a7-55533d31e600\",\"type\":\"LinearAxis\"}],\"plot_height\":400,\"plot_width\":400,\"renderers\":[{\"id\":\"36257352-bf8b-406e-904e-2784b0f35d22\",\"type\":\"LinearAxis\"},{\"id\":\"7c11d620-1e3f-48cd-95c5-b2477f9b06cf\",\"type\":\"Grid\"},{\"id\":\"d941dfad-0c03-4c16-a8a7-55533d31e600\",\"type\":\"LinearAxis\"},{\"id\":\"f2a74d30-2373-4326-a373-c0c7a687d4e8\",\"type\":\"Grid\"},{\"id\":\"d470e295-f0c4-4e54-a5f0-63c491264e1f\",\"type\":\"BoxAnnotation\"},{\"id\":\"a2edabb4-85c1-4e35-9aa9-ee979fb2c785\",\"type\":\"GlyphRenderer\"},{\"id\":\"3476b95e-ce51-4ac8-8c56-b7605fa4b802\",\"type\":\"GlyphRenderer\"}],\"title\":{\"id\":\"c3b093aa-9160-4aab-9ea4-163b14d8a7f7\",\"type\":\"Title\"},\"toolbar\":{\"id\":\"229657e3-933f-47cb-adf6-3bfde22ae9bc\",\"type\":\"Toolbar\"},\"x_range\":{\"id\":\"8f3a5212-fb70-46c5-980a-b6d5e4ca536b\",\"type\":\"DataRange1d\"},\"x_scale\":{\"id\":\"35b69e82-bde5-450f-8c15-bdf26ea4c6e4\",\"type\":\"LinearScale\"},\"y_range\":{\"id\":\"61a9b6b9-f8c6-411c-a362-46ad5a4d14ea\",\"type\":\"DataRange1d\"},\"y_scale\":{\"id\":\"3b27b41c-6f41-40c3-bdbd-9e5a01d17b3d\",\"type\":\"LinearScale\"}},\"id\":\"20e518ea-a64b-401c-ad74-3e5655b925c5\",\"subtype\":\"Figure\",\"type\":\"Plot\"},{\"attributes\":{\"line_alpha\":{\"value\":0.1},\"line_color\":{\"value\":\"#1f77b4\"},\"x\":{\"field\":\"x\"},\"y\":{\"field\":\"y\"}},\"id\":\"2833be52-4ac2-4d15-a623-a48bc0effaf1\",\"type\":\"Line\"},{\"attributes\":{},\"id\":\"35b69e82-bde5-450f-8c15-bdf26ea4c6e4\",\"type\":\"LinearScale\"},{\"attributes\":{},\"id\":\"3b27b41c-6f41-40c3-bdbd-9e5a01d17b3d\",\"type\":\"LinearScale\"},{\"attributes\":{\"plot\":{\"id\":\"20e518ea-a64b-401c-ad74-3e5655b925c5\",\"subtype\":\"Figure\",\"type\":\"Plot\"},\"ticker\":{\"id\":\"e2e5c42f-84ab-4682-9860-1a7263560e9d\",\"type\":\"BasicTicker\"}},\"id\":\"7c11d620-1e3f-48cd-95c5-b2477f9b06cf\",\"type\":\"Grid\"},{\"attributes\":{\"formatter\":{\"id\":\"0c875bc7-b34d-4131-a10e-4b6139b98233\",\"type\":\"BasicTickFormatter\"},\"plot\":{\"id\":\"20e518ea-a64b-401c-ad74-3e5655b925c5\",\"subtype\":\"Figure\",\"type\":\"Plot\"},\"ticker\":{\"id\":\"e2e5c42f-84ab-4682-9860-1a7263560e9d\",\"type\":\"BasicTicker\"}},\"id\":\"36257352-bf8b-406e-904e-2784b0f35d22\",\"type\":\"LinearAxis\"},{\"attributes\":{\"callback\":null,\"column_names\":[\"x\",\"y\"],\"data\":{\"x\":[1,2,1,11,1,11,5],\"y\":[1,2,3,4,5,6,5]}},\"id\":\"c5a2bbbc-29db-4cea-9e94-3a483b7a9409\",\"type\":\"ColumnDataSource\"},{\"attributes\":{},\"id\":\"e2e5c42f-84ab-4682-9860-1a7263560e9d\",\"type\":\"BasicTicker\"},{\"attributes\":{\"formatter\":{\"id\":\"c6ecadc7-0ee0-4881-b1dd-b1a0685e2cb3\",\"type\":\"BasicTickFormatter\"},\"plot\":{\"id\":\"20e518ea-a64b-401c-ad74-3e5655b925c5\",\"subtype\":\"Figure\",\"type\":\"Plot\"},\"ticker\":{\"id\":\"3e9b20f0-1da6-4040-a16d-293afcc333dc\",\"type\":\"BasicTicker\"}},\"id\":\"d941dfad-0c03-4c16-a8a7-55533d31e600\",\"type\":\"LinearAxis\"},{\"attributes\":{},\"id\":\"3e9b20f0-1da6-4040-a16d-293afcc333dc\",\"type\":\"BasicTicker\"},{\"attributes\":{\"dimension\":1,\"plot\":{\"id\":\"20e518ea-a64b-401c-ad74-3e5655b925c5\",\"subtype\":\"Figure\",\"type\":\"Plot\"},\"ticker\":{\"id\":\"3e9b20f0-1da6-4040-a16d-293afcc333dc\",\"type\":\"BasicTicker\"}},\"id\":\"f2a74d30-2373-4326-a373-c0c7a687d4e8\",\"type\":\"Grid\"},{\"attributes\":{\"data_source\":{\"id\":\"c5a2bbbc-29db-4cea-9e94-3a483b7a9409\",\"type\":\"ColumnDataSource\"},\"glyph\":{\"id\":\"9cfa32dc-a943-49d3-91ac-68c650a29582\",\"type\":\"Line\"},\"hover_glyph\":null,\"muted_glyph\":null,\"nonselection_glyph\":{\"id\":\"2833be52-4ac2-4d15-a623-a48bc0effaf1\",\"type\":\"Line\"},\"selection_glyph\":null,\"view\":{\"id\":\"6336c6d2-eda0-4746-8187-36c6a315ab4d\",\"type\":\"CDSView\"}},\"id\":\"a2edabb4-85c1-4e35-9aa9-ee979fb2c785\",\"type\":\"GlyphRenderer\"},{\"attributes\":{},\"id\":\"c6ecadc7-0ee0-4881-b1dd-b1a0685e2cb3\",\"type\":\"BasicTickFormatter\"},{\"attributes\":{\"bottom_units\":\"screen\",\"fill_alpha\":{\"value\":0.5},\"fill_color\":{\"value\":\"lightgrey\"},\"left_units\":\"screen\",\"level\":\"overlay\",\"line_alpha\":{\"value\":1.0},\"line_color\":{\"value\":\"black\"},\"line_dash\":[4,4],\"line_width\":{\"value\":2},\"plot\":null,\"render_mode\":\"css\",\"right_units\":\"screen\",\"top_units\":\"screen\"},\"id\":\"d470e295-f0c4-4e54-a5f0-63c491264e1f\",\"type\":\"BoxAnnotation\"},{\"attributes\":{},\"id\":\"38d85769-3c35-4f8b-aae4-f19832daf8e0\",\"type\":\"PanTool\"},{\"attributes\":{\"source\":{\"id\":\"c5a2bbbc-29db-4cea-9e94-3a483b7a9409\",\"type\":\"ColumnDataSource\"}},\"id\":\"6336c6d2-eda0-4746-8187-36c6a315ab4d\",\"type\":\"CDSView\"},{\"attributes\":{},\"id\":\"99eca996-ddc7-438d-8253-497385e7a598\",\"type\":\"WheelZoomTool\"},{\"attributes\":{\"callback\":null,\"column_names\":[\"x\",\"y\"],\"data\":{\"x\":[1,2,1,11,1,11,5],\"y\":[1,2,3,4,5,6,5]}},\"id\":\"dc4cdcc8-73fa-41c9-a60c-9504baeb2bf6\",\"type\":\"ColumnDataSource\"},{\"attributes\":{\"overlay\":{\"id\":\"d470e295-f0c4-4e54-a5f0-63c491264e1f\",\"type\":\"BoxAnnotation\"}},\"id\":\"9e0023f8-7935-4f8c-999b-c6989d976c7f\",\"type\":\"BoxZoomTool\"},{\"attributes\":{},\"id\":\"beb0cf65-f29a-42b8-a224-416dfda514ae\",\"type\":\"SaveTool\"},{\"attributes\":{},\"id\":\"f853f822-d7f3-4152-a098-4465cd508e7f\",\"type\":\"ResetTool\"},{\"attributes\":{},\"id\":\"87c0b58f-1bcb-419d-ade6-101051d504d1\",\"type\":\"HelpTool\"},{\"attributes\":{\"fill_color\":{\"value\":\"indigo\"},\"line_color\":{\"value\":\"indigo\"},\"size\":{\"units\":\"screen\",\"value\":60},\"x\":{\"field\":\"x\"},\"y\":{\"field\":\"y\"}},\"id\":\"d3a40981-4305-440b-98a2-a85bba09a12a\",\"type\":\"Diamond\"},{\"attributes\":{},\"id\":\"0c875bc7-b34d-4131-a10e-4b6139b98233\",\"type\":\"BasicTickFormatter\"},{\"attributes\":{\"plot\":null,\"text\":\"\"},\"id\":\"c3b093aa-9160-4aab-9ea4-163b14d8a7f7\",\"type\":\"Title\"},{\"attributes\":{\"fill_alpha\":{\"value\":0.1},\"fill_color\":{\"value\":\"#1f77b4\"},\"line_alpha\":{\"value\":0.1},\"line_color\":{\"value\":\"#1f77b4\"},\"size\":{\"units\":\"screen\",\"value\":60},\"x\":{\"field\":\"x\"},\"y\":{\"field\":\"y\"}},\"id\":\"395f1f07-c5ba-4fd6-b1e1-e2f56a6a94ca\",\"type\":\"Diamond\"},{\"attributes\":{\"data_source\":{\"id\":\"dc4cdcc8-73fa-41c9-a60c-9504baeb2bf6\",\"type\":\"ColumnDataSource\"},\"glyph\":{\"id\":\"d3a40981-4305-440b-98a2-a85bba09a12a\",\"type\":\"Diamond\"},\"hover_glyph\":null,\"muted_glyph\":null,\"nonselection_glyph\":{\"id\":\"395f1f07-c5ba-4fd6-b1e1-e2f56a6a94ca\",\"type\":\"Diamond\"},\"selection_glyph\":null,\"view\":{\"id\":\"d351bd7d-1d99-4abd-9956-fc735fb933b6\",\"type\":\"CDSView\"}},\"id\":\"3476b95e-ce51-4ac8-8c56-b7605fa4b802\",\"type\":\"GlyphRenderer\"},{\"attributes\":{\"source\":{\"id\":\"dc4cdcc8-73fa-41c9-a60c-9504baeb2bf6\",\"type\":\"ColumnDataSource\"}},\"id\":\"d351bd7d-1d99-4abd-9956-fc735fb933b6\",\"type\":\"CDSView\"},{\"attributes\":{\"callback\":null},\"id\":\"8f3a5212-fb70-46c5-980a-b6d5e4ca536b\",\"type\":\"DataRange1d\"},{\"attributes\":{\"line_color\":{\"value\":\"#1f77b4\"},\"x\":{\"field\":\"x\"},\"y\":{\"field\":\"y\"}},\"id\":\"9cfa32dc-a943-49d3-91ac-68c650a29582\",\"type\":\"Line\"}],\"root_ids\":[\"20e518ea-a64b-401c-ad74-3e5655b925c5\"]},\"title\":\"Bokeh Application\",\"version\":\"0.12.10\"}};\n",
       "    var render_items = [{\"docid\":\"0fb95e83-e5fe-4dac-b1af-0b0347815388\",\"elementid\":\"927720df-741e-464e-96d7-4ec2cd9d461f\",\"modelid\":\"20e518ea-a64b-401c-ad74-3e5655b925c5\"}];\n",
       "\n",
       "    root.Bokeh.embed.embed_items(docs_json, render_items);\n",
       "  }\n",
       "\n",
       "  if (root.Bokeh !== undefined) {\n",
       "    embed_document(root);\n",
       "  } else {\n",
       "    var attempts = 0;\n",
       "    var timer = setInterval(function(root) {\n",
       "      if (root.Bokeh !== undefined) {\n",
       "        embed_document(root);\n",
       "        clearInterval(timer);\n",
       "      }\n",
       "      attempts++;\n",
       "      if (attempts > 100) {\n",
       "        console.log(\"Bokeh: ERROR: Unable to embed document because BokehJS library is missing\")\n",
       "        clearInterval(timer);\n",
       "      }\n",
       "    }, 10, root)\n",
       "  }\n",
       "})(window);"
      ],
      "application/vnd.bokehjs_exec.v0+json": ""
     },
     "metadata": {
      "application/vnd.bokehjs_exec.v0+json": {
       "id": "20e518ea-a64b-401c-ad74-3e5655b925c5"
      }
     },
     "output_type": "display_data"
    }
   ],
   "source": [
    "# EXERCISE: create your own plot combining multiple glyphs together\n",
    "\n",
    "x=[1,2,1,11,1,11,5]\n",
    "y=[1,2,3,4,5,6,5]\n",
    "\n",
    "p =figure(plot_width=400, plot_height=400)\n",
    "\n",
    "p.line(x,y, line_width=1)\n",
    "p.diamond(x,y,color=\"indigo\",size=60)\n",
    "show(p)"
   ]
  }
 ],
 "metadata": {
  "anaconda-cloud": {},
  "kernelspec": {
   "display_name": "Python [default]",
   "language": "python",
   "name": "python3"
  },
  "language_info": {
   "codemirror_mode": {
    "name": "ipython",
    "version": 3
   },
   "file_extension": ".py",
   "mimetype": "text/x-python",
   "name": "python",
   "nbconvert_exporter": "python",
   "pygments_lexer": "ipython3",
   "version": "3.6.3"
  }
 },
 "nbformat": 4,
 "nbformat_minor": 1
}
